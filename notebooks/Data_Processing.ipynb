{
 "cells": [
  {
   "cell_type": "code",
   "execution_count": 2,
   "metadata": {},
   "outputs": [],
   "source": [
    "import numpy as np\n",
    "import os\n",
    "import sys\n",
    "import pandas as pd\n",
    "import zipfile\n",
    "import argparse\n",
    "import requests\n",
    "from tqdm import tqdm\n",
    "sys.path.append(\"../\")\n",
    "from utils import *\n",
    "random_state = 0"
   ]
  },
  {
   "cell_type": "markdown",
   "metadata": {},
   "source": [
    "# Choose a dataset\n",
    "\n",
    "We currently have 2 options\n",
    "\n",
    "1. CelebA\n",
    "\n",
    "2. Standford Chest X-ray"
   ]
  },
  {
   "cell_type": "code",
   "execution_count": 3,
   "metadata": {},
   "outputs": [],
   "source": [
    "dirpath = '../data'"
   ]
  },
  {
   "cell_type": "markdown",
   "metadata": {},
   "source": [
    "# CelebA\n",
    "\n",
    "Code adopted from: https://github.com/taki0112/StarGAN-Tensorflow"
   ]
  },
  {
   "cell_type": "markdown",
   "metadata": {},
   "source": [
    "## Download CelebA dataset"
   ]
  },
  {
   "cell_type": "markdown",
   "metadata": {},
   "source": [
    "## Support functions"
   ]
  },
  {
   "cell_type": "code",
   "execution_count": 4,
   "metadata": {},
   "outputs": [],
   "source": [
    "def download_file_from_google_drive(id, destination):\n",
    "    URL = \"https://docs.google.com/uc?export=download\"\n",
    "    session = requests.Session()\n",
    "\n",
    "    response = session.get(URL, params={'id': id}, stream=True)\n",
    "    token = get_confirm_token(response)\n",
    "\n",
    "    if token:\n",
    "        params = {'id': id, 'confirm': token}\n",
    "        response = session.get(URL, params=params, stream=True)\n",
    "\n",
    "    save_response_content(response, destination)\n",
    "def get_confirm_token(response):\n",
    "    for key, value in response.cookies.items():\n",
    "        if key.startswith('download_warning'):\n",
    "            return value\n",
    "    return None\n",
    "def save_response_content(response, destination, chunk_size=32 * 1024):\n",
    "    total_size = int(response.headers.get('content-length', 0))\n",
    "    with open(destination, \"wb\") as f:\n",
    "        for chunk in tqdm(response.iter_content(chunk_size), total=total_size,\n",
    "                          unit='B', unit_scale=True, desc=destination):\n",
    "            if chunk:  # filter out keep-alive new chunks\n",
    "                f.write(chunk)"
   ]
  },
  {
   "cell_type": "markdown",
   "metadata": {},
   "source": [
    "## Download dataset"
   ]
  },
  {
   "cell_type": "code",
   "execution_count": 5,
   "metadata": {},
   "outputs": [],
   "source": [
    "celebA_dir = os.path.join(dirpath, 'CelebA')\n",
    "if not os.path.exists(celebA_dir):\n",
    "    os.makedirs(celebA_dir)"
   ]
  },
  {
   "cell_type": "code",
   "execution_count": null,
   "metadata": {},
   "outputs": [],
   "source": [
    "file_name, drive_id = \"img_align_celeba.zip\", \"0B7EVK8r0v71pZjFTYXZWM3FlRnM\"\n",
    "txt_name, txt_drive_id = \"list_attr_celeba.txt\", \"0B7EVK8r0v71pblRyaVFSWGxPY0U\"\n",
    "\n",
    "save_path = os.path.join(dirpath, file_name)\n",
    "txt_save_path = os.path.join(celebA_dir, txt_name)\n",
    "\n",
    "if os.path.exists(txt_save_path):\n",
    "    print('[*] {} already exists'.format(txt_save_path))\n",
    "else:\n",
    "    download_file_from_google_drive(txt_drive_id, txt_save_path)\n",
    "\n",
    "if os.path.exists(save_path):\n",
    "    print('[*] {} already exists'.format(save_path))\n",
    "else:\n",
    "    download_file_from_google_drive(drive_id, save_path)\n",
    "\n",
    "with zipfile.ZipFile(save_path) as zf:\n",
    "    zf.extractall(celebA_dir)\n",
    "\n",
    "# os.remove(save_path)\n",
    "os.rename(os.path.join(celebA_dir, 'img_align_celeba'), os.path.join(celebA_dir, 'images'))"
   ]
  },
  {
   "cell_type": "markdown",
   "metadata": {},
   "source": [
    "## Final paths"
   ]
  },
  {
   "cell_type": "code",
   "execution_count": 14,
   "metadata": {},
   "outputs": [],
   "source": [
    "# The data is already saved at:\n",
    "#image_dir = '/pghbio/dbmi/batmanlab/singla/MICCAI_2019/GAN_Interpretability/data/celebA/images'\n"
   ]
  },
  {
   "cell_type": "code",
   "execution_count": 30,
   "metadata": {},
   "outputs": [],
   "source": [
    "celebA_dir = os.path.join('../data', 'CelebA')\n",
    "image_dir = os.path.join(celebA_dir,'images')\n",
    "txt_dir = os.path.join(celebA_dir,'list_attr_celeba.txt')"
   ]
  },
  {
   "cell_type": "code",
   "execution_count": 31,
   "metadata": {},
   "outputs": [
    {
     "name": "stdout",
     "output_type": "stream",
     "text": [
      "('Image Dir: ', '../data/CelebA/images')\n",
      "('Label File: ', '../data/CelebA/list_attr_celeba.txt')\n"
     ]
    }
   ],
   "source": [
    "print('Image Dir: ', image_dir)\n",
    "print('Label File: ',txt_dir)"
   ]
  },
  {
   "cell_type": "code",
   "execution_count": 20,
   "metadata": {},
   "outputs": [
    {
     "name": "stdout",
     "output_type": "stream",
     "text": [
      "202599\r\n",
      "\n",
      "5_o_Clock_Shadow Arched_Eyebrows Attractive Bags_Under_Eyes Bald Bangs Big_Lips Big_Nose Black_Hair Blond_Hair Blurry Brown_Hair Bushy_Eyebrows Chubby Double_Chin Eyeglasses Goatee Gray_Hair Heavy_Makeup High_Cheekbones Male Mouth_Slightly_Open Mustache Narrow_Eyes No_Beard Oval_Face Pale_Skin Pointy_Nose Receding_Hairline Rosy_Cheeks Sideburns Smiling Straight_Hair Wavy_Hair Wearing_Earrings Wearing_Hat Wearing_Lipstick Wearing_Necklace Wearing_Necktie Young \r\n",
      "\n",
      "000001.jpg -1  1  1 -1 -1 -1 -1 -1 -1 -1 -1  1 -1 -1 -1 -1 -1 -1  1  1 -1  1 -1 -1  1 -1 -1  1 -1 -1 -1  1  1 -1  1 -1  1 -1 -1  1\r\n",
      "\n",
      "000002.jpg -1 -1 -1  1 -1 -1 -1  1 -1 -1 -1  1 -1 -1 -1 -1 -1 -1 -1  1 -1  1 -1 -1  1 -1 -1 -1 -1 -1 -1  1 -1 -1 -1 -1 -1 -1 -1  1\r\n",
      "\n",
      "000003.jpg -1 -1 -1 -1 -1 -1  1 -1 -1 -1  1 -1 -1 -1 -1 -1 -1 -1 -1 -1  1 -1 -1  1  1 -1 -1  1 -1 -1 -1 -1 -1  1 -1 -1 -1 -1 -1  1\r\n",
      "\n"
     ]
    }
   ],
   "source": [
    "# Read label file:\n",
    "fp = open(txt_dir, 'r')\n",
    "for i in range(5):\n",
    "    print(fp.readline())"
   ]
  },
  {
   "cell_type": "markdown",
   "metadata": {},
   "source": [
    "## Divide dataset into train and test set"
   ]
  },
  {
   "cell_type": "code",
   "execution_count": 16,
   "metadata": {
    "collapsed": true
   },
   "outputs": [
    {
     "name": "stderr",
     "output_type": "stream",
     "text": [
      "/pghbio/dbmi/batmanlab/singla/anaconda/lib/python2.7/site-packages/sklearn/utils/__init__.py:12: RuntimeWarning: numpy.dtype size changed, may indicate binary incompatibility. Expected 96, got 88\n",
      "  from .murmurhash import murmurhash3_32\n",
      "/pghbio/dbmi/batmanlab/singla/anaconda/lib/python2.7/site-packages/sklearn/utils/extmath.py:23: RuntimeWarning: numpy.dtype size changed, may indicate binary incompatibility. Expected 96, got 88\n",
      "  from ._logistic_sigmoid import _log_logistic_sigmoid\n",
      "/pghbio/dbmi/batmanlab/singla/anaconda/lib/python2.7/site-packages/sklearn/utils/extmath.py:25: RuntimeWarning: numpy.dtype size changed, may indicate binary incompatibility. Expected 96, got 88\n",
      "  from .sparsefuncs_fast import csr_row_norms\n",
      "/pghbio/dbmi/batmanlab/singla/anaconda/lib/python2.7/site-packages/sklearn/metrics/cluster/supervised.py:25: RuntimeWarning: numpy.dtype size changed, may indicate binary incompatibility. Expected 96, got 88\n",
      "  from .expected_mutual_info_fast import expected_mutual_information\n",
      "/pghbio/dbmi/batmanlab/singla/anaconda/lib/python2.7/site-packages/sklearn/metrics/pairwise.py:31: RuntimeWarning: numpy.dtype size changed, may indicate binary incompatibility. Expected 96, got 88\n",
      "  from .pairwise_fast import _chi2_kernel_fast, _sparse_manhattan\n"
     ]
    },
    {
     "name": "stdout",
     "output_type": "stream",
     "text": [
      "((135741,), (66858,))\n"
     ]
    },
    {
     "name": "stderr",
     "output_type": "stream",
     "text": [
      "/pghbio/dbmi/batmanlab/singla/anaconda/lib/python2.7/site-packages/sklearn/utils/random.py:10: RuntimeWarning: numpy.dtype size changed, may indicate binary incompatibility. Expected 96, got 88\n",
      "  from ._random import sample_without_replacement\n"
     ]
    }
   ],
   "source": [
    "all_images = os.listdir(image_dir)\n",
    "from sklearn.model_selection import train_test_split\n",
    "X_train, X_test = train_test_split(all_images, test_size=0.33, random_state=random_state)\n",
    "X_train = np.asarray(X_train)\n",
    "X_test = np.asarray(X_test)\n",
    "print(X_train.shape, X_test.shape)\n",
    "np.save(os.path.join(celebA_dir, 'train_ids.npy'), X_train)\n",
    "np.save(os.path.join(celebA_dir, 'test_ids.npy'), X_test)"
   ]
  },
  {
   "cell_type": "markdown",
   "metadata": {},
   "source": [
    "## Read Label File"
   ]
  },
  {
   "cell_type": "code",
   "execution_count": 32,
   "metadata": {},
   "outputs": [
    {
     "data": {
      "text/plain": [
       "'../data/CelebA/list_attr_celeba.txt'"
      ]
     },
     "execution_count": 32,
     "metadata": {},
     "output_type": "execute_result"
    }
   ],
   "source": [
    "txt_dir"
   ]
  },
  {
   "cell_type": "code",
   "execution_count": 36,
   "metadata": {},
   "outputs": [
    {
     "name": "stdout",
     "output_type": "stream",
     "text": [
      "['5_o_Clock_Shadow' 'Arched_Eyebrows' 'Attractive' 'Bags_Under_Eyes'\n",
      " 'Bald' 'Bangs' 'Big_Lips' 'Big_Nose' 'Black_Hair' 'Blond_Hair' 'Blurry'\n",
      " 'Brown_Hair' 'Bushy_Eyebrows' 'Chubby' 'Double_Chin' 'Eyeglasses'\n",
      " 'Goatee' 'Gray_Hair' 'Heavy_Makeup' 'High_Cheekbones' 'Male'\n",
      " 'Mouth_Slightly_Open' 'Mustache' 'Narrow_Eyes' 'No_Beard' 'Oval_Face'\n",
      " 'Pale_Skin' 'Pointy_Nose' 'Receding_Hairline' 'Rosy_Cheeks' 'Sideburns'\n",
      " 'Smiling' 'Straight_Hair' 'Wavy_Hair' 'Wearing_Earrings' 'Wearing_Hat'\n",
      " 'Wearing_Lipstick' 'Wearing_Necklace' 'Wearing_Necktie' 'Young']\n"
     ]
    }
   ],
   "source": [
    "categories, file_names_dict = read_data_file(txt_dir,image_dir)\n",
    "categories = np.asarray(categories).ravel()\n",
    "print(categories)"
   ]
  },
  {
   "cell_type": "code",
   "execution_count": 37,
   "metadata": {},
   "outputs": [
    {
     "name": "stdout",
     "output_type": "stream",
     "text": [
      "('Number of images: ', 202599)\n",
      "Few image names:\n"
     ]
    },
    {
     "data": {
      "text/plain": [
       "['../data/CelebA/images/141713.jpg',\n",
       " '../data/CelebA/images/149435.jpg',\n",
       " '../data/CelebA/images/094192.jpg',\n",
       " '../data/CelebA/images/099478.jpg',\n",
       " '../data/CelebA/images/196329.jpg']"
      ]
     },
     "execution_count": 37,
     "metadata": {},
     "output_type": "execute_result"
    }
   ],
   "source": [
    "print(\"Number of images: \", len(file_names_dict.keys()))\n",
    "print(\"Few image names:\")\n",
    "file_names_dict.keys()[0:5]"
   ]
  },
  {
   "cell_type": "code",
   "execution_count": 38,
   "metadata": {},
   "outputs": [
    {
     "name": "stdout",
     "output_type": "stream",
     "text": [
      "<type 'list'>\n",
      "[-1. -1. -1. -1. -1. -1. -1.  1.  1. -1. -1. -1. -1.  1. -1. -1. -1. -1.\n",
      " -1.  1.  1.  1. -1. -1.  1.  1. -1. -1. -1. -1. -1.  1. -1. -1. -1. -1.\n",
      " -1. -1. -1. -1.]\n"
     ]
    }
   ],
   "source": [
    "label = file_names_dict[file_names_dict.keys()[0]]\n",
    "print(type(label))\n",
    "label = np.asarray(label)\n",
    "print(label.ravel())"
   ]
  },
  {
   "cell_type": "markdown",
   "metadata": {},
   "source": [
    "## Create Binary-Classification Data file"
   ]
  },
  {
   "cell_type": "code",
   "execution_count": 39,
   "metadata": {},
   "outputs": [
    {
     "name": "stdout",
     "output_type": "stream",
     "text": [
      "(202599, 41)\n"
     ]
    },
    {
     "data": {
      "text/html": [
       "<div>\n",
       "<style scoped>\n",
       "    .dataframe tbody tr th:only-of-type {\n",
       "        vertical-align: middle;\n",
       "    }\n",
       "\n",
       "    .dataframe tbody tr th {\n",
       "        vertical-align: top;\n",
       "    }\n",
       "\n",
       "    .dataframe thead th {\n",
       "        text-align: right;\n",
       "    }\n",
       "</style>\n",
       "<table border=\"1\" class=\"dataframe\">\n",
       "  <thead>\n",
       "    <tr style=\"text-align: right;\">\n",
       "      <th></th>\n",
       "      <th>0</th>\n",
       "      <th>1</th>\n",
       "      <th>2</th>\n",
       "      <th>3</th>\n",
       "      <th>4</th>\n",
       "      <th>5</th>\n",
       "      <th>6</th>\n",
       "      <th>7</th>\n",
       "      <th>8</th>\n",
       "      <th>9</th>\n",
       "      <th>...</th>\n",
       "      <th>31</th>\n",
       "      <th>32</th>\n",
       "      <th>33</th>\n",
       "      <th>34</th>\n",
       "      <th>35</th>\n",
       "      <th>36</th>\n",
       "      <th>37</th>\n",
       "      <th>38</th>\n",
       "      <th>39</th>\n",
       "      <th>Image_Path</th>\n",
       "    </tr>\n",
       "  </thead>\n",
       "  <tbody>\n",
       "    <tr>\n",
       "      <th>../data/CelebA/images/000001.jpg</th>\n",
       "      <td>-1.0</td>\n",
       "      <td>1.0</td>\n",
       "      <td>1.0</td>\n",
       "      <td>-1.0</td>\n",
       "      <td>-1.0</td>\n",
       "      <td>-1.0</td>\n",
       "      <td>-1.0</td>\n",
       "      <td>-1.0</td>\n",
       "      <td>-1.0</td>\n",
       "      <td>-1.0</td>\n",
       "      <td>...</td>\n",
       "      <td>1.0</td>\n",
       "      <td>1.0</td>\n",
       "      <td>-1.0</td>\n",
       "      <td>1.0</td>\n",
       "      <td>-1.0</td>\n",
       "      <td>1.0</td>\n",
       "      <td>-1.0</td>\n",
       "      <td>-1.0</td>\n",
       "      <td>1.0</td>\n",
       "      <td>../data/CelebA/images/000001.jpg</td>\n",
       "    </tr>\n",
       "    <tr>\n",
       "      <th>../data/CelebA/images/000002.jpg</th>\n",
       "      <td>-1.0</td>\n",
       "      <td>-1.0</td>\n",
       "      <td>-1.0</td>\n",
       "      <td>1.0</td>\n",
       "      <td>-1.0</td>\n",
       "      <td>-1.0</td>\n",
       "      <td>-1.0</td>\n",
       "      <td>1.0</td>\n",
       "      <td>-1.0</td>\n",
       "      <td>-1.0</td>\n",
       "      <td>...</td>\n",
       "      <td>1.0</td>\n",
       "      <td>-1.0</td>\n",
       "      <td>-1.0</td>\n",
       "      <td>-1.0</td>\n",
       "      <td>-1.0</td>\n",
       "      <td>-1.0</td>\n",
       "      <td>-1.0</td>\n",
       "      <td>-1.0</td>\n",
       "      <td>1.0</td>\n",
       "      <td>../data/CelebA/images/000002.jpg</td>\n",
       "    </tr>\n",
       "  </tbody>\n",
       "</table>\n",
       "<p>2 rows × 41 columns</p>\n",
       "</div>"
      ],
      "text/plain": [
       "                                    0    1    2    3    4    5    6    7    8  \\\n",
       "../data/CelebA/images/000001.jpg -1.0  1.0  1.0 -1.0 -1.0 -1.0 -1.0 -1.0 -1.0   \n",
       "../data/CelebA/images/000002.jpg -1.0 -1.0 -1.0  1.0 -1.0 -1.0 -1.0  1.0 -1.0   \n",
       "\n",
       "                                    9                ...                  31  \\\n",
       "../data/CelebA/images/000001.jpg -1.0                ...                 1.0   \n",
       "../data/CelebA/images/000002.jpg -1.0                ...                 1.0   \n",
       "\n",
       "                                   32   33   34   35   36   37   38   39  \\\n",
       "../data/CelebA/images/000001.jpg  1.0 -1.0  1.0 -1.0  1.0 -1.0 -1.0  1.0   \n",
       "../data/CelebA/images/000002.jpg -1.0 -1.0 -1.0 -1.0 -1.0 -1.0 -1.0  1.0   \n",
       "\n",
       "                                                        Image_Path  \n",
       "../data/CelebA/images/000001.jpg  ../data/CelebA/images/000001.jpg  \n",
       "../data/CelebA/images/000002.jpg  ../data/CelebA/images/000002.jpg  \n",
       "\n",
       "[2 rows x 41 columns]"
      ]
     },
     "execution_count": 39,
     "metadata": {},
     "output_type": "execute_result"
    }
   ],
   "source": [
    "# Convert the dictionary: attr_list to a dataframe\n",
    "df = pd.DataFrame(file_names_dict).T\n",
    "df['Image_Path'] = df.index\n",
    "print(df.shape)\n",
    "df.head(2)"
   ]
  },
  {
   "cell_type": "code",
   "execution_count": 17,
   "metadata": {},
   "outputs": [
    {
     "name": "stdout",
     "output_type": "stream",
     "text": [
      "(135741, 41)\n",
      "(66858, 41)\n"
     ]
    },
    {
     "data": {
      "text/html": [
       "<div>\n",
       "<style scoped>\n",
       "    .dataframe tbody tr th:only-of-type {\n",
       "        vertical-align: middle;\n",
       "    }\n",
       "\n",
       "    .dataframe tbody tr th {\n",
       "        vertical-align: top;\n",
       "    }\n",
       "\n",
       "    .dataframe thead th {\n",
       "        text-align: right;\n",
       "    }\n",
       "</style>\n",
       "<table border=\"1\" class=\"dataframe\">\n",
       "  <thead>\n",
       "    <tr style=\"text-align: right;\">\n",
       "      <th></th>\n",
       "      <th>0</th>\n",
       "      <th>1</th>\n",
       "      <th>2</th>\n",
       "      <th>3</th>\n",
       "      <th>4</th>\n",
       "      <th>5</th>\n",
       "      <th>6</th>\n",
       "      <th>7</th>\n",
       "      <th>8</th>\n",
       "      <th>9</th>\n",
       "      <th>...</th>\n",
       "      <th>31</th>\n",
       "      <th>32</th>\n",
       "      <th>33</th>\n",
       "      <th>34</th>\n",
       "      <th>35</th>\n",
       "      <th>36</th>\n",
       "      <th>37</th>\n",
       "      <th>38</th>\n",
       "      <th>39</th>\n",
       "      <th>Image_Path</th>\n",
       "    </tr>\n",
       "  </thead>\n",
       "  <tbody>\n",
       "    <tr>\n",
       "      <th>000002.jpg</th>\n",
       "      <td>0.0</td>\n",
       "      <td>0.0</td>\n",
       "      <td>0.0</td>\n",
       "      <td>1.0</td>\n",
       "      <td>0.0</td>\n",
       "      <td>0.0</td>\n",
       "      <td>0.0</td>\n",
       "      <td>1.0</td>\n",
       "      <td>0.0</td>\n",
       "      <td>0.0</td>\n",
       "      <td>...</td>\n",
       "      <td>1.0</td>\n",
       "      <td>0.0</td>\n",
       "      <td>0.0</td>\n",
       "      <td>0.0</td>\n",
       "      <td>0.0</td>\n",
       "      <td>0.0</td>\n",
       "      <td>0.0</td>\n",
       "      <td>0.0</td>\n",
       "      <td>1.0</td>\n",
       "      <td>000002.jpg</td>\n",
       "    </tr>\n",
       "    <tr>\n",
       "      <th>000003.jpg</th>\n",
       "      <td>0.0</td>\n",
       "      <td>0.0</td>\n",
       "      <td>0.0</td>\n",
       "      <td>0.0</td>\n",
       "      <td>0.0</td>\n",
       "      <td>0.0</td>\n",
       "      <td>1.0</td>\n",
       "      <td>0.0</td>\n",
       "      <td>0.0</td>\n",
       "      <td>0.0</td>\n",
       "      <td>...</td>\n",
       "      <td>0.0</td>\n",
       "      <td>0.0</td>\n",
       "      <td>1.0</td>\n",
       "      <td>0.0</td>\n",
       "      <td>0.0</td>\n",
       "      <td>0.0</td>\n",
       "      <td>0.0</td>\n",
       "      <td>0.0</td>\n",
       "      <td>1.0</td>\n",
       "      <td>000003.jpg</td>\n",
       "    </tr>\n",
       "  </tbody>\n",
       "</table>\n",
       "<p>2 rows × 41 columns</p>\n",
       "</div>"
      ],
      "text/plain": [
       "              0    1    2    3    4    5    6    7    8    9     ...       31  \\\n",
       "000002.jpg  0.0  0.0  0.0  1.0  0.0  0.0  0.0  1.0  0.0  0.0     ...      1.0   \n",
       "000003.jpg  0.0  0.0  0.0  0.0  0.0  0.0  1.0  0.0  0.0  0.0     ...      0.0   \n",
       "\n",
       "             32   33   34   35   36   37   38   39  Image_Path  \n",
       "000002.jpg  0.0  0.0  0.0  0.0  0.0  0.0  0.0  1.0  000002.jpg  \n",
       "000003.jpg  0.0  1.0  0.0  0.0  0.0  0.0  0.0  1.0  000003.jpg  \n",
       "\n",
       "[2 rows x 41 columns]"
      ]
     },
     "execution_count": 17,
     "metadata": {},
     "output_type": "execute_result"
    }
   ],
   "source": [
    "train_ids = np.load(os.path.join(celebA_dir,'train_ids.npy'))\n",
    "test_ids = np.load(os.path.join(celebA_dir,'test_ids.npy'))\n",
    "df_train = df.loc[df['Image_Path'].isin(train_ids)]\n",
    "df_train = df_train.replace(-1, 0)\n",
    "print(df_train.shape)\n",
    "df_test = df.loc[df['Image_Path'].isin(test_ids)]\n",
    "df_test = df_test.replace(-1, 0)\n",
    "print(df_test.shape)\n",
    "df_test.head(2)"
   ]
  },
  {
   "cell_type": "code",
   "execution_count": 18,
   "metadata": {},
   "outputs": [
    {
     "name": "stdout",
     "output_type": "stream",
     "text": [
      "39\n"
     ]
    }
   ],
   "source": [
    "# Target attribute for binary classification\n",
    "attribute = 'Young'\n",
    "index = np.where(np.asarray(categories) == attribute)\n",
    "index = index[0][0]\n",
    "print(index)"
   ]
  },
  {
   "cell_type": "markdown",
   "metadata": {},
   "source": [
    "## Write the label file for target attribute binary classification"
   ]
  },
  {
   "cell_type": "code",
   "execution_count": 20,
   "metadata": {},
   "outputs": [
    {
     "name": "stdout",
     "output_type": "stream",
     "text": [
      "(135741, 2)\n",
      "135741\n",
      "\n",
      "Young\n",
      "\n",
      "000001.jpg 1.0\n",
      "\n",
      "000005.jpg 1.0\n",
      "\n",
      "000006.jpg 1.0\n",
      "\n",
      "000010.jpg 1.0\n",
      "\n"
     ]
    }
   ],
   "source": [
    "#Train File\n",
    "df_temp = df_train[['Image_Path', index]]\n",
    "file_name = attribute+'_binary_classification_train.txt'\n",
    "df_temp.to_csv(os.path.join(celebA_dir, file_name ),sep = ' ', index = None, header = None)\n",
    "print(df_temp.shape)\n",
    "one_line = str(df_temp.shape[0]) + '\\n'\n",
    "second_line = attribute+ \"\\n\"\n",
    "with open(os.path.join(celebA_dir, file_name), 'r+') as fp:\n",
    "    lines = fp.readlines()     # lines is list of line, each element '...\\n'\n",
    "    lines.insert(0, one_line)  # you can use any index if you know the line index\n",
    "    lines.insert(1, second_line)\n",
    "    fp.seek(0)                 # file pointer locates at the beginning to write the whole file again\n",
    "    fp.writelines(lines) \n",
    "fp = open(os.path.join(celebA_dir, file_name), 'rw')\n",
    "print(fp.readline())\n",
    "print(fp.readline())\n",
    "print(fp.readline())\n",
    "print(fp.readline())\n",
    "print(fp.readline())\n",
    "print(fp.readline())\n",
    "fp.close()"
   ]
  },
  {
   "cell_type": "code",
   "execution_count": 21,
   "metadata": {},
   "outputs": [
    {
     "name": "stdout",
     "output_type": "stream",
     "text": [
      "(66858, 2)\n"
     ]
    }
   ],
   "source": [
    "#Test File\n",
    "df_temp = df_test[['Image_Path', index]]\n",
    "file_name = attribute+'_binary_classification_test.txt'\n",
    "df_temp.to_csv(os.path.join(celebA_dir, file_name ),sep = ' ', index = None, header = None)\n",
    "print(df_temp.shape)\n",
    "one_line = str(df_temp.shape[0]) + '\\n'\n",
    "second_line = attribute+ \"\\n\"\n",
    "with open(os.path.join(celebA_dir, file_name), 'r+') as fp:\n",
    "    lines = fp.readlines()     # lines is list of line, each element '...\\n'\n",
    "    lines.insert(0, one_line)  # you can use any index if you know the line index\n",
    "    lines.insert(1, second_line)\n",
    "    fp.seek(0)                 # file pointer locates at the beginning to write the whole file again\n",
    "    fp.writelines(lines) "
   ]
  },
  {
   "cell_type": "markdown",
   "metadata": {},
   "source": [
    "### Read saved files"
   ]
  },
  {
   "cell_type": "code",
   "execution_count": 22,
   "metadata": {},
   "outputs": [
    {
     "name": "stdout",
     "output_type": "stream",
     "text": [
      "['Young']\n"
     ]
    }
   ],
   "source": [
    "image_dir = '/pghbio/dbmi/batmanlab/singla/MICCAI_2019/GAN_Interpretability/data/celebA/images'\n",
    "file_name = attribute+'_binary_classification_test.txt'\n",
    "categories, file_names_dict = read_data_file(os.path.join(celebA_dir, file_name),image_dir)\n",
    "categories = np.asarray(categories).ravel()\n",
    "print(categories)"
   ]
  },
  {
   "cell_type": "code",
   "execution_count": 23,
   "metadata": {},
   "outputs": [
    {
     "name": "stdout",
     "output_type": "stream",
     "text": [
      "('Number of images: ', 66858)\n",
      "Few image names:\n"
     ]
    },
    {
     "data": {
      "text/plain": [
       "['/pghbio/dbmi/batmanlab/singla/MICCAI_2019/GAN_Interpretability/data/celebA/images/202579.jpg',\n",
       " '/pghbio/dbmi/batmanlab/singla/MICCAI_2019/GAN_Interpretability/data/celebA/images/049289.jpg',\n",
       " '/pghbio/dbmi/batmanlab/singla/MICCAI_2019/GAN_Interpretability/data/celebA/images/037112.jpg',\n",
       " '/pghbio/dbmi/batmanlab/singla/MICCAI_2019/GAN_Interpretability/data/celebA/images/161036.jpg',\n",
       " '/pghbio/dbmi/batmanlab/singla/MICCAI_2019/GAN_Interpretability/data/celebA/images/191775.jpg']"
      ]
     },
     "execution_count": 23,
     "metadata": {},
     "output_type": "execute_result"
    }
   ],
   "source": [
    "print(\"Number of images: \", len(file_names_dict.keys()))\n",
    "print(\"Few image names:\")\n",
    "file_names_dict.keys()[0:5]"
   ]
  },
  {
   "cell_type": "code",
   "execution_count": 24,
   "metadata": {},
   "outputs": [
    {
     "name": "stdout",
     "output_type": "stream",
     "text": [
      "<type 'list'>\n",
      "[1.]\n"
     ]
    }
   ],
   "source": [
    "label = file_names_dict[file_names_dict.keys()[0]]\n",
    "print(type(label))\n",
    "label = np.asarray(label)\n",
    "print(label.ravel())"
   ]
  },
  {
   "cell_type": "code",
   "execution_count": null,
   "metadata": {},
   "outputs": [],
   "source": []
  },
  {
   "cell_type": "markdown",
   "metadata": {},
   "source": [
    "# Chest X-Ray"
   ]
  },
  {
   "cell_type": "markdown",
   "metadata": {},
   "source": []
  },
  {
   "cell_type": "code",
   "execution_count": null,
   "metadata": {},
   "outputs": [],
   "source": []
  },
  {
   "cell_type": "code",
   "execution_count": null,
   "metadata": {},
   "outputs": [],
   "source": []
  },
  {
   "cell_type": "markdown",
   "metadata": {},
   "source": [
    "# Create file for "
   ]
  }
 ],
 "metadata": {
  "kernelspec": {
   "display_name": "Python 2",
   "language": "python",
   "name": "python2"
  },
  "language_info": {
   "codemirror_mode": {
    "name": "ipython",
    "version": 2
   },
   "file_extension": ".py",
   "mimetype": "text/x-python",
   "name": "python",
   "nbconvert_exporter": "python",
   "pygments_lexer": "ipython2",
   "version": "2.7.15"
  },
  "toc": {
   "base_numbering": 1,
   "nav_menu": {},
   "number_sections": true,
   "sideBar": true,
   "skip_h1_title": false,
   "title_cell": "Table of Contents",
   "title_sidebar": "Contents",
   "toc_cell": false,
   "toc_position": {},
   "toc_section_display": true,
   "toc_window_display": false
  }
 },
 "nbformat": 4,
 "nbformat_minor": 2
}
