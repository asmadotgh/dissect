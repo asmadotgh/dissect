{
 "cells": [
  {
   "cell_type": "markdown",
   "metadata": {},
   "source": [
    "# Imports"
   ]
  },
  {
   "cell_type": "code",
   "execution_count": 5,
   "metadata": {},
   "outputs": [],
   "source": [
    "import numpy as np\n",
    "import pandas as pd\n",
    "import os\n",
    "import matplotlib.pyplot as plt\n",
    "import sys\n",
    "sys.path.append(\"../\")\n",
    "import yaml\n",
    "from utils import *\n",
    "from sklearn.metrics import roc_auc_score\n",
    "from sklearn.metrics import accuracy_score\n",
    "from sklearn.metrics import recall_score\n",
    "from sklearn.metrics import confusion_matrix\n",
    "import scipy.misc as scm\n",
    "import warnings\n",
    "warnings.filterwarnings(\"ignore\")\n",
    "warnings.filterwarnings(\"ignore\", category=DeprecationWarning) \n",
    "np.random.seed(0)"
   ]
  },
  {
   "cell_type": "code",
   "execution_count": 8,
   "metadata": {},
   "outputs": [],
   "source": [
    "binary_attribute = 'Smile'"
   ]
  },
  {
   "cell_type": "markdown",
   "metadata": {},
   "source": [
    "# Read config"
   ]
  },
  {
   "cell_type": "code",
   "execution_count": 9,
   "metadata": {},
   "outputs": [
    {
     "name": "stdout",
     "output_type": "stream",
     "text": [
      "epochs 5\n",
      "input_size 128\n",
      "num_channel 3\n",
      "ckpt_dir_continue \n",
      "train ./data/CelebA/train_ids.npy\n",
      "image_label_dict ./data/CelebA/Smiling_binary_classification.txt\n",
      "num_class 1\n",
      "test ./data/CelebA/test_ids.npy\n",
      "name CelebA-Smile\n",
      "batch_size 32\n",
      "log_dir ./output/classifier\n",
      "image_dir ./data/CelebA/images/\n"
     ]
    }
   ],
   "source": [
    "config = '../configs/celebA_{}_Classifier.yaml'.format(binary_attribute)\n",
    "config = yaml.load(open(config))\n",
    "for k in config.keys():\n",
    "    print(k, config[k])"
   ]
  },
  {
   "cell_type": "code",
   "execution_count": 10,
   "metadata": {},
   "outputs": [
    {
     "name": "stdout",
     "output_type": "stream",
     "text": [
      "../output/classifier/CelebA-Smile/classifier_output\n"
     ]
    }
   ],
   "source": [
    "output_dir = os.path.join('.' + config['log_dir'], config['name'], 'classifier_output')\n",
    "print(output_dir)"
   ]
  },
  {
   "cell_type": "code",
   "execution_count": 11,
   "metadata": {},
   "outputs": [
    {
     "name": "stdout",
     "output_type": "stream",
     "text": [
      "['Smiling']\n"
     ]
    }
   ],
   "source": [
    "categories, file_names_dict = read_data_file('.' + config['image_label_dict'])\n",
    "print(categories)"
   ]
  },
  {
   "cell_type": "markdown",
   "metadata": {},
   "source": [
    "# Load saved output from classifier"
   ]
  },
  {
   "cell_type": "code",
   "execution_count": 12,
   "metadata": {},
   "outputs": [
    {
     "name": "stdout",
     "output_type": "stream",
     "text": [
      "(135712,) (135712, 2) (135712, 1)\n",
      "(66848,) (66848, 2) (66848, 1)\n"
     ]
    }
   ],
   "source": [
    "# Read classifier output\n",
    "train_or_test = 'train1'\n",
    "names = np.load(os.path.join(output_dir, 'name_' +train_or_test+'.npy'), allow_pickle=True)\n",
    "prediction_y = np.load(os.path.join(output_dir, 'prediction_y_' +train_or_test+'.npy'))\n",
    "true_y = np.load(os.path.join(output_dir, 'true_y_' +train_or_test+'.npy'), allow_pickle=True)\n",
    "train_or_test = 'test1'\n",
    "names_i = np.load(os.path.join(output_dir,'name_' +train_or_test+'.npy'), allow_pickle=True)\n",
    "prediction_y_i = np.load(os.path.join(output_dir, 'prediction_y_' +train_or_test+'.npy'))\n",
    "true_y_i = np.load(os.path.join(output_dir, 'true_y_' +train_or_test+'.npy'))\n",
    "print(names.shape, prediction_y.shape, true_y.shape)\n",
    "print(names_i.shape, prediction_y_i.shape, true_y_i.shape)"
   ]
  },
  {
   "cell_type": "code",
   "execution_count": 13,
   "metadata": {},
   "outputs": [],
   "source": [
    "true_y = np.reshape(true_y, [-1, len(categories)])\n",
    "true_y_i = np.reshape(true_y_i, [-1, len(categories)])"
   ]
  },
  {
   "cell_type": "markdown",
   "metadata": {},
   "source": [
    "## View results from classifier"
   ]
  },
  {
   "cell_type": "code",
   "execution_count": 14,
   "metadata": {
    "scrolled": true
   },
   "outputs": [
    {
     "name": "stdout",
     "output_type": "stream",
     "text": [
      "Smiling 0\n",
      "ROC-AUC train:  0.9866739298569729\n",
      "ROC-AUC test:  0.9812473891145177\n",
      "Accuracy train:  0.9377357934449422\n",
      "Accuracy test:  0.9260411680229775\n",
      "Recall train:  0.9335046185844498\n",
      "Recall test:  0.9201674159045109\n",
      "Stats train:  (array([0., 1.], dtype=float32), array([70324, 65388])) 61040\n",
      "Stats test:  (array([0., 1.], dtype=float32), array([34593, 32255])) 29680\n",
      "[[32224  2369]\n",
      " [ 2575 29680]]\n",
      "[[66222  4102]\n",
      " [ 4348 61040]]\n"
     ]
    }
   ],
   "source": [
    "for i in range(prediction_y.shape[1]):\n",
    "    print(categories[i],i)\n",
    "    if prediction_y.shape[1] == 2:\n",
    "        j = 1\n",
    "    else:\n",
    "        j = i\n",
    "    print(\"ROC-AUC train: \", roc_auc_score(true_y[:,i], prediction_y[:,j]))\n",
    "    try:\n",
    "        print(\"ROC-AUC test: \", roc_auc_score(true_y_i[:,i], prediction_y_i[:,j]))\n",
    "    except:\n",
    "        a = 0\n",
    "    print(\"Accuracy train: \", accuracy_score(true_y[:,i], (prediction_y[:,j]>0.5).astype(int)))\n",
    "    print(\"Accuracy test: \", accuracy_score(true_y_i[:,i], (prediction_y_i[:,j]>0.5).astype(int)))\n",
    "    print(\"Recall train: \", recall_score(true_y[:,i], (prediction_y[:,j]>0.5).astype(int)))\n",
    "    print(\"Recall test: \", recall_score(true_y_i[:,i], (prediction_y_i[:,j]>0.5).astype(int)))\n",
    "    tp = np.sum((prediction_y[true_y[:,i] == 1,j]>0.5).astype(int))\n",
    "    tp_i = np.sum((prediction_y_i[true_y_i[:,i] == 1,j]>0.5).astype(int))\n",
    "    print(\"Stats train: \", np.unique(true_y[:,i], return_counts=True), tp)\n",
    "    print(\"Stats test: \", np.unique(true_y_i[:,i], return_counts=True),tp_i)\n",
    "    print(confusion_matrix(true_y_i[:,i],  (prediction_y_i[:,j]>0.5).astype(int)))\n",
    "    print(confusion_matrix(true_y[:,i],  (prediction_y[:,j]>0.5).astype(int)))\n",
    "    if prediction_y.shape[1] == 2:\n",
    "        break"
   ]
  },
  {
   "cell_type": "markdown",
   "metadata": {},
   "source": [
    "## Choose a traget class to build explanation"
   ]
  },
  {
   "cell_type": "code",
   "execution_count": 15,
   "metadata": {},
   "outputs": [
    {
     "name": "stdout",
     "output_type": "stream",
     "text": [
      "Smiling\n"
     ]
    }
   ],
   "source": [
    "current_index = 0\n",
    "name = categories[current_index]\n",
    "print(name)\n",
    "current_index_prob = 1"
   ]
  },
  {
   "cell_type": "markdown",
   "metadata": {},
   "source": [
    "## Create a dataframe from results"
   ]
  },
  {
   "cell_type": "code",
   "execution_count": 19,
   "metadata": {},
   "outputs": [
    {
     "name": "stdout",
     "output_type": "stream",
     "text": [
      "(66848, 4)\n",
      "(array([ 0,  1,  2,  3,  4,  5,  6,  7,  8,  9, 10]), array([26624,  3204,  2000,  1594,  1377,  1533,  1603,  1706,  2300,\n",
      "       24546,   361]))\n"
     ]
    },
    {
     "data": {
      "text/html": [
       "<div>\n",
       "<style scoped>\n",
       "    .dataframe tbody tr th:only-of-type {\n",
       "        vertical-align: middle;\n",
       "    }\n",
       "\n",
       "    .dataframe tbody tr th {\n",
       "        vertical-align: top;\n",
       "    }\n",
       "\n",
       "    .dataframe thead th {\n",
       "        text-align: right;\n",
       "    }\n",
       "</style>\n",
       "<table border=\"1\" class=\"dataframe\">\n",
       "  <thead>\n",
       "    <tr style=\"text-align: right;\">\n",
       "      <th></th>\n",
       "      <th>filename</th>\n",
       "      <th>label</th>\n",
       "      <th>prob</th>\n",
       "      <th>bin</th>\n",
       "    </tr>\n",
       "  </thead>\n",
       "  <tbody>\n",
       "    <tr>\n",
       "      <th>0</th>\n",
       "      <td>174499.jpg</td>\n",
       "      <td>1</td>\n",
       "      <td>0.289342</td>\n",
       "      <td>2</td>\n",
       "    </tr>\n",
       "    <tr>\n",
       "      <th>1</th>\n",
       "      <td>145818.jpg</td>\n",
       "      <td>1</td>\n",
       "      <td>0.999757</td>\n",
       "      <td>9</td>\n",
       "    </tr>\n",
       "    <tr>\n",
       "      <th>2</th>\n",
       "      <td>102565.jpg</td>\n",
       "      <td>0</td>\n",
       "      <td>0.205661</td>\n",
       "      <td>2</td>\n",
       "    </tr>\n",
       "  </tbody>\n",
       "</table>\n",
       "</div>"
      ],
      "text/plain": [
       "     filename label      prob  bin\n",
       "0  174499.jpg     1  0.289342    2\n",
       "1  145818.jpg     1  0.999757    9\n",
       "2  102565.jpg     0  0.205661    2"
      ]
     },
     "execution_count": 19,
     "metadata": {},
     "output_type": "execute_result"
    }
   ],
   "source": [
    "df_test_results = pd.DataFrame(data = [names_i, true_y_i[:,current_index], prediction_y_i[:,current_index_prob]]).T\n",
    "df_test_results = df_test_results.rename(index=str, columns={0: \"filename\", 1: \"label\", 2:\"prob\"})\n",
    "df_test_results['bin'] = np.floor(df_test_results[\"prob\"].astype('float') * 10).astype('int')\n",
    "print(df_test_results.shape)\n",
    "print(np.unique(df_test_results['bin'], return_counts=True))\n",
    "df_test_results.head(3)"
   ]
  },
  {
   "cell_type": "code",
   "execution_count": 20,
   "metadata": {},
   "outputs": [
    {
     "name": "stdout",
     "output_type": "stream",
     "text": [
      "(135712, 4)\n",
      "(array([ 0,  1,  2,  3,  4,  5,  6,  7,  8,  9, 10]), array([54195,  6443,  3868,  3219,  2845,  3028,  3133,  3487,  4564,\n",
      "       50175,   755]))\n"
     ]
    },
    {
     "data": {
      "text/html": [
       "<div>\n",
       "<style scoped>\n",
       "    .dataframe tbody tr th:only-of-type {\n",
       "        vertical-align: middle;\n",
       "    }\n",
       "\n",
       "    .dataframe tbody tr th {\n",
       "        vertical-align: top;\n",
       "    }\n",
       "\n",
       "    .dataframe thead th {\n",
       "        text-align: right;\n",
       "    }\n",
       "</style>\n",
       "<table border=\"1\" class=\"dataframe\">\n",
       "  <thead>\n",
       "    <tr style=\"text-align: right;\">\n",
       "      <th></th>\n",
       "      <th>filename</th>\n",
       "      <th>label</th>\n",
       "      <th>prob</th>\n",
       "      <th>bin</th>\n",
       "    </tr>\n",
       "  </thead>\n",
       "  <tbody>\n",
       "    <tr>\n",
       "      <th>0</th>\n",
       "      <td>149610.jpg</td>\n",
       "      <td>0</td>\n",
       "      <td>0.140006</td>\n",
       "      <td>1</td>\n",
       "    </tr>\n",
       "    <tr>\n",
       "      <th>1</th>\n",
       "      <td>054215.jpg</td>\n",
       "      <td>1</td>\n",
       "      <td>0.786891</td>\n",
       "      <td>7</td>\n",
       "    </tr>\n",
       "    <tr>\n",
       "      <th>2</th>\n",
       "      <td>050394.jpg</td>\n",
       "      <td>1</td>\n",
       "      <td>0.999981</td>\n",
       "      <td>9</td>\n",
       "    </tr>\n",
       "  </tbody>\n",
       "</table>\n",
       "</div>"
      ],
      "text/plain": [
       "     filename label      prob  bin\n",
       "0  149610.jpg     0  0.140006    1\n",
       "1  054215.jpg     1  0.786891    7\n",
       "2  050394.jpg     1  0.999981    9"
      ]
     },
     "execution_count": 20,
     "metadata": {},
     "output_type": "execute_result"
    }
   ],
   "source": [
    "df_train_results = pd.DataFrame(data = [names, true_y[:,current_index], prediction_y[:,current_index_prob]]).T\n",
    "df_train_results = df_train_results.rename(index=str, columns={0: \"filename\", 1: \"label\", 2:\"prob\"})\n",
    "df_train_results['bin'] = np.floor(df_train_results[\"prob\"].astype('float') * 10).astype('int')\n",
    "print(df_train_results.shape)\n",
    "print(np.unique(df_train_results['bin'], return_counts=True))\n",
    "df_train_results.head(3)"
   ]
  },
  {
   "cell_type": "code",
   "execution_count": 21,
   "metadata": {},
   "outputs": [
    {
     "name": "stdout",
     "output_type": "stream",
     "text": [
      "(202560, 4)\n"
     ]
    },
    {
     "data": {
      "text/html": [
       "<div>\n",
       "<style scoped>\n",
       "    .dataframe tbody tr th:only-of-type {\n",
       "        vertical-align: middle;\n",
       "    }\n",
       "\n",
       "    .dataframe tbody tr th {\n",
       "        vertical-align: top;\n",
       "    }\n",
       "\n",
       "    .dataframe thead th {\n",
       "        text-align: right;\n",
       "    }\n",
       "</style>\n",
       "<table border=\"1\" class=\"dataframe\">\n",
       "  <thead>\n",
       "    <tr style=\"text-align: right;\">\n",
       "      <th></th>\n",
       "      <th>filename</th>\n",
       "      <th>label</th>\n",
       "      <th>prob</th>\n",
       "      <th>bin</th>\n",
       "    </tr>\n",
       "  </thead>\n",
       "  <tbody>\n",
       "    <tr>\n",
       "      <th>0</th>\n",
       "      <td>149610.jpg</td>\n",
       "      <td>0</td>\n",
       "      <td>0.140006</td>\n",
       "      <td>1</td>\n",
       "    </tr>\n",
       "  </tbody>\n",
       "</table>\n",
       "</div>"
      ],
      "text/plain": [
       "     filename label      prob  bin\n",
       "0  149610.jpg     0  0.140006    1"
      ]
     },
     "execution_count": 21,
     "metadata": {},
     "output_type": "execute_result"
    }
   ],
   "source": [
    "df = pd.concat([df_train_results, df_test_results])\n",
    "df = df.drop_duplicates()\n",
    "print(df.shape)\n",
    "df.head(1)"
   ]
  },
  {
   "cell_type": "markdown",
   "metadata": {},
   "source": [
    "## Plot reliability curve"
   ]
  },
  {
   "cell_type": "code",
   "execution_count": 22,
   "metadata": {},
   "outputs": [
    {
     "data": {
      "image/png": "[encoded data removed]",
      "text/plain": [
       "<Figure size 432x288 with 1 Axes>"
      ]
     },
     "metadata": {
      "needs_background": "light"
     },
     "output_type": "display_data"
    }
   ],
   "source": [
    "#Reliability Curve\n",
    "from sklearn.calibration import CalibratedClassifierCV, calibration_curve\n",
    "from sklearn.metrics import (brier_score_loss, precision_score, recall_score,\n",
    "                             f1_score)\n",
    "true_label = np.asarray(df['label']).astype(int)\n",
    "predicted_prob = np.asarray(df[\"prob\"]).astype(float)\n",
    "fraction_of_positives, mean_predicted_value = calibration_curve(true_label, predicted_prob, n_bins=10)\n",
    "clf_score = brier_score_loss(true_label, predicted_prob, pos_label=1)\n",
    "plt.plot(mean_predicted_value, fraction_of_positives, \"s-\",\n",
    "                 label=\"%s (%1.3f)\" % ('Data-before binning', clf_score))\n",
    "plt.plot([0, 1], [0, 1], \"k:\", label=\"Perfectly calibrated\")\n",
    "plt.ylabel('Fraction of positives')\n",
    "#plt.ylim([-0.05, 1.05])\n",
    "plt.title('Calibration plots  (reliability curve) for '+ name)\n",
    "plt.legend()\n",
    "plt.show()"
   ]
  },
  {
   "cell_type": "markdown",
   "metadata": {},
   "source": [
    "# Create bins"
   ]
  },
  {
   "cell_type": "code",
   "execution_count": 23,
   "metadata": {},
   "outputs": [
    {
     "data": {
      "text/html": [
       "<div>\n",
       "<style scoped>\n",
       "    .dataframe tbody tr th:only-of-type {\n",
       "        vertical-align: middle;\n",
       "    }\n",
       "\n",
       "    .dataframe tbody tr th {\n",
       "        vertical-align: top;\n",
       "    }\n",
       "\n",
       "    .dataframe thead th {\n",
       "        text-align: right;\n",
       "    }\n",
       "</style>\n",
       "<table border=\"1\" class=\"dataframe\">\n",
       "  <thead>\n",
       "    <tr style=\"text-align: right;\">\n",
       "      <th></th>\n",
       "      <th>filename</th>\n",
       "      <th>label</th>\n",
       "      <th>prob</th>\n",
       "      <th>bin</th>\n",
       "    </tr>\n",
       "  </thead>\n",
       "  <tbody>\n",
       "    <tr>\n",
       "      <th>0</th>\n",
       "      <td>149610.jpg</td>\n",
       "      <td>0</td>\n",
       "      <td>0.140006</td>\n",
       "      <td>1</td>\n",
       "    </tr>\n",
       "  </tbody>\n",
       "</table>\n",
       "</div>"
      ],
      "text/plain": [
       "     filename label      prob  bin\n",
       "0  149610.jpg     0  0.140006    1"
      ]
     },
     "execution_count": 23,
     "metadata": {},
     "output_type": "execute_result"
    }
   ],
   "source": [
    "df.head(1)"
   ]
  },
  {
   "cell_type": "code",
   "execution_count": 24,
   "metadata": {},
   "outputs": [
    {
     "data": {
      "text/html": [
       "<div>\n",
       "<style scoped>\n",
       "    .dataframe tbody tr th:only-of-type {\n",
       "        vertical-align: middle;\n",
       "    }\n",
       "\n",
       "    .dataframe tbody tr th {\n",
       "        vertical-align: top;\n",
       "    }\n",
       "\n",
       "    .dataframe thead th {\n",
       "        text-align: right;\n",
       "    }\n",
       "</style>\n",
       "<table border=\"1\" class=\"dataframe\">\n",
       "  <thead>\n",
       "    <tr style=\"text-align: right;\">\n",
       "      <th></th>\n",
       "      <th>filename</th>\n",
       "      <th>label</th>\n",
       "      <th>prob</th>\n",
       "    </tr>\n",
       "    <tr>\n",
       "      <th>bin</th>\n",
       "      <th></th>\n",
       "      <th></th>\n",
       "      <th></th>\n",
       "    </tr>\n",
       "  </thead>\n",
       "  <tbody>\n",
       "    <tr>\n",
       "      <th>0</th>\n",
       "      <td>80819</td>\n",
       "      <td>80819</td>\n",
       "      <td>80819</td>\n",
       "    </tr>\n",
       "    <tr>\n",
       "      <th>1</th>\n",
       "      <td>9647</td>\n",
       "      <td>9647</td>\n",
       "      <td>9647</td>\n",
       "    </tr>\n",
       "    <tr>\n",
       "      <th>2</th>\n",
       "      <td>5868</td>\n",
       "      <td>5868</td>\n",
       "      <td>5868</td>\n",
       "    </tr>\n",
       "    <tr>\n",
       "      <th>3</th>\n",
       "      <td>4813</td>\n",
       "      <td>4813</td>\n",
       "      <td>4813</td>\n",
       "    </tr>\n",
       "    <tr>\n",
       "      <th>4</th>\n",
       "      <td>4222</td>\n",
       "      <td>4222</td>\n",
       "      <td>4222</td>\n",
       "    </tr>\n",
       "    <tr>\n",
       "      <th>5</th>\n",
       "      <td>4561</td>\n",
       "      <td>4561</td>\n",
       "      <td>4561</td>\n",
       "    </tr>\n",
       "    <tr>\n",
       "      <th>6</th>\n",
       "      <td>4736</td>\n",
       "      <td>4736</td>\n",
       "      <td>4736</td>\n",
       "    </tr>\n",
       "    <tr>\n",
       "      <th>7</th>\n",
       "      <td>5193</td>\n",
       "      <td>5193</td>\n",
       "      <td>5193</td>\n",
       "    </tr>\n",
       "    <tr>\n",
       "      <th>8</th>\n",
       "      <td>6864</td>\n",
       "      <td>6864</td>\n",
       "      <td>6864</td>\n",
       "    </tr>\n",
       "    <tr>\n",
       "      <th>9</th>\n",
       "      <td>74721</td>\n",
       "      <td>74721</td>\n",
       "      <td>74721</td>\n",
       "    </tr>\n",
       "    <tr>\n",
       "      <th>10</th>\n",
       "      <td>1116</td>\n",
       "      <td>1116</td>\n",
       "      <td>1116</td>\n",
       "    </tr>\n",
       "  </tbody>\n",
       "</table>\n",
       "</div>"
      ],
      "text/plain": [
       "     filename  label   prob\n",
       "bin                        \n",
       "0       80819  80819  80819\n",
       "1        9647   9647   9647\n",
       "2        5868   5868   5868\n",
       "3        4813   4813   4813\n",
       "4        4222   4222   4222\n",
       "5        4561   4561   4561\n",
       "6        4736   4736   4736\n",
       "7        5193   5193   5193\n",
       "8        6864   6864   6864\n",
       "9       74721  74721  74721\n",
       "10       1116   1116   1116"
      ]
     },
     "execution_count": 24,
     "metadata": {},
     "output_type": "execute_result"
    }
   ],
   "source": [
    "df.groupby(by='bin').count()"
   ]
  },
  {
   "cell_type": "code",
   "execution_count": 25,
   "metadata": {},
   "outputs": [],
   "source": [
    "n = 5000"
   ]
  },
  {
   "cell_type": "markdown",
   "metadata": {},
   "source": [
    "## Caliberated Sampling"
   ]
  },
  {
   "cell_type": "code",
   "execution_count": 26,
   "metadata": {},
   "outputs": [
    {
     "name": "stdout",
     "output_type": "stream",
     "text": [
      "(80819, 4)\n",
      "7.5357144e-05 0.0999977\n",
      "(array([0.0, 1.0], dtype=object), array([79705,  1114]))\n",
      "(5000, 4)\n",
      "(array([0.0], dtype=object), array([5000]))\n",
      "(9647, 4)\n",
      "0.10000148 0.1999756\n",
      "(array([0.0, 1.0], dtype=object), array([8356, 1291]))\n",
      "(10000, 4)\n",
      "(array([0.0, 1.0], dtype=object), array([4500,  500]))\n",
      "(5868, 4)\n",
      "0.20000497 0.29993865\n",
      "(array([0.0, 1.0], dtype=object), array([4553, 1315]))\n",
      "(15000, 4)\n",
      "(array([0.0, 1.0], dtype=object), array([4000, 1000]))\n",
      "(4813, 4)\n",
      "0.30000898 0.3999755\n",
      "(array([0.0, 1.0], dtype=object), array([3290, 1523]))\n",
      "(19813, 4)\n",
      "(array([0.0, 1.0], dtype=object), array([3290, 1523]))\n",
      "(4222, 4)\n",
      "0.40006277 0.49996102\n",
      "(array([0.0, 1.0], dtype=object), array([2542, 1680]))\n",
      "(24035, 4)\n",
      "(array([0.0, 1.0], dtype=object), array([2542, 1680]))\n",
      "(4561, 4)\n",
      "0.50000954 0.5999826\n",
      "(array([0.0, 1.0], dtype=object), array([2195, 2366]))\n",
      "(28596, 4)\n",
      "(array([0.0, 1.0], dtype=object), array([2195, 2366]))\n",
      "(4736, 4)\n",
      "0.6000234 0.6999994\n",
      "(array([0.0, 1.0], dtype=object), array([1723, 3013]))\n",
      "(33332, 4)\n",
      "(array([0.0, 1.0], dtype=object), array([1723, 3013]))\n",
      "(5193, 4)\n",
      "0.700023 0.79998094\n",
      "(array([0.0, 1.0], dtype=object), array([1300, 3893]))\n",
      "(38332, 4)\n",
      "(array([0.0, 1.0], dtype=object), array([1300, 3700]))\n",
      "(6864, 4)\n",
      "0.80000746 0.8999988\n",
      "(array([0.0, 1.0], dtype=object), array([ 783, 6081]))\n",
      "(43332, 4)\n",
      "(array([0.0, 1.0], dtype=object), array([ 783, 4217]))\n",
      "(74721, 4)\n",
      "0.9000268 0.9999999\n",
      "(array([0.0, 1.0], dtype=object), array([  470, 74251]))\n",
      "(48332, 4)\n",
      "(array([0.0, 1.0], dtype=object), array([ 470, 4530]))\n"
     ]
    }
   ],
   "source": [
    "for i in range(10):\n",
    "    df_bin = df.loc[df['bin'] == i]\n",
    "    print(df_bin.shape)\n",
    "    print(np.min(df_bin['prob']), np.max(df_bin['prob']))\n",
    "    print(np.unique(df_bin['label'],return_counts=True))\n",
    "    df_bin_0 = df.loc[(df['bin'] == i) & (df['label'] ==0)]\n",
    "    df_bin_1 = df.loc[(df['bin'] == i) & (df['label'] ==1)]\n",
    "    n_0 = int((1 - (0.1 * i) ) * n)\n",
    "    if df_bin_0.shape[0] >= n_0:\n",
    "        df_bin = df_bin_0.sample(n=n_0)\n",
    "    else:\n",
    "        df_bin = df_bin_0\n",
    "        n_0 = df_bin_0.shape[0]\n",
    "    n_1 = n - n_0\n",
    "    if df_bin_1.shape[0] >= n_1:\n",
    "        df_bin = pd.concat([df_bin, df_bin_1.sample(n=n_1)])        \n",
    "    else:\n",
    "        df_bin = pd.concat([df_bin, df_bin_1])    \n",
    "        \n",
    "    if i == 0:\n",
    "        df_bin_all = df_bin\n",
    "    else:\n",
    "        df_bin_all = pd.concat([df_bin, df_bin_all])\n",
    "    print(df_bin_all.shape)\n",
    "    print(np.unique(df_bin['label'],return_counts=True))"
   ]
  },
  {
   "cell_type": "code",
   "execution_count": 27,
   "metadata": {},
   "outputs": [
    {
     "name": "stdout",
     "output_type": "stream",
     "text": [
      "(array([0, 1, 2, 3, 4, 5, 6, 7, 8, 9]), array([5000, 5000, 5000, 4813, 4222, 4561, 4736, 5000, 5000, 5000]))\n"
     ]
    }
   ],
   "source": [
    "print(np.unique(df_bin_all['bin'], return_counts=True))"
   ]
  },
  {
   "cell_type": "code",
   "execution_count": 28,
   "metadata": {},
   "outputs": [
    {
     "data": {
      "image/png": "[encoded data removed]",
      "text/plain": [
       "<Figure size 432x288 with 1 Axes>"
      ]
     },
     "metadata": {
      "needs_background": "light"
     },
     "output_type": "display_data"
    }
   ],
   "source": [
    "#Reliability Curve\n",
    "from sklearn.calibration import CalibratedClassifierCV, calibration_curve\n",
    "from sklearn.metrics import (brier_score_loss, precision_score, recall_score,\n",
    "                             f1_score)\n",
    "true_label = np.asarray(df_bin_all['label']).astype(int)\n",
    "predicted_prob = np.asarray(df_bin_all['prob']).astype(float)\n",
    "fraction_of_positives, mean_predicted_value = calibration_curve(true_label, predicted_prob, n_bins=10)\n",
    "clf_score = brier_score_loss(true_label, predicted_prob, pos_label=1)\n",
    "plt.plot(mean_predicted_value, fraction_of_positives, \"s-\",\n",
    "                 label=\"%s (%1.3f)\" % ('Data-after binning', clf_score))\n",
    "plt.plot([0, 1], [0, 1], \"k:\", label=\"Perfectly calibrated\")\n",
    "plt.ylabel('Fraction of positives')\n",
    "plt.ylim([-0.05, 1.05])\n",
    "plt.title('Calibration plots  (reliability curve) for '+name)\n",
    "plt.legend()\n",
    "plt.show()"
   ]
  },
  {
   "cell_type": "markdown",
   "metadata": {},
   "source": [
    "## Save the output"
   ]
  },
  {
   "cell_type": "code",
   "execution_count": 29,
   "metadata": {},
   "outputs": [],
   "source": [
    "experiment_dir = os.path.join('.'+config['log_dir'], config['name'], 'explainer_input')"
   ]
  },
  {
   "cell_type": "code",
   "execution_count": 30,
   "metadata": {},
   "outputs": [
    {
     "name": "stdout",
     "output_type": "stream",
     "text": [
      "../output/classifier/CelebA-Smile/explainer_input Smiling\n"
     ]
    }
   ],
   "source": [
    "print(experiment_dir,name)\n",
    "if not os.path.exists(experiment_dir):\n",
    "    os.makedirs(experiment_dir)"
   ]
  },
  {
   "cell_type": "code",
   "execution_count": 32,
   "metadata": {},
   "outputs": [
    {
     "name": "stdout",
     "output_type": "stream",
     "text": [
      "(48332, 2)\n"
     ]
    }
   ],
   "source": [
    "df_temp = df_bin_all[['filename', 'bin']]\n",
    "df_temp.to_csv(os.path.join(experiment_dir, 'list_attr_celeba_'+name+'.txt'), sep = ' ', index = None, header = None)\n",
    "print(df_temp.shape)\n",
    "one_line = str(df_temp.shape[0]) + '\\n'\n",
    "second_line = \"0-0.09 0.1-0.19 0.2-0.29 0.3-0.39 0.4-0.49 0.5-0.59 0.6-0.69 0.7-0.79 0.8-0.89 0.9-0.99\\n\"\n",
    "with open(os.path.join(experiment_dir, 'list_attr_celeba_'+name+'.txt'), 'r+') as fp:\n",
    "    lines = fp.readlines()     # lines is list of line, each element '...\\n'\n",
    "    lines.insert(0, one_line)  # you can use any index if you know the line index\n",
    "    lines.insert(1, second_line)\n",
    "    fp.seek(0)                 # file pointer locates at the beginning to write the whole file again\n",
    "    fp.writelines(lines) \n",
    "# fp = open(os.path.join(experiment_dir, 'list_attr_celeba_'+name+'.txt'), 'rw')\n",
    "# print(fp.readline())\n",
    "# print(fp.readline())\n",
    "# print(fp.readline())\n",
    "# print(fp.readline())\n",
    "# print(fp.readline())\n",
    "# print(fp.readline())\n",
    "df_bin_all.to_csv(os.path.join(experiment_dir, 'Data_Output_Classifier_'+name+'.csv'), sep = ' ', index = None)\n",
    "df_test_results.to_csv(os.path.join(experiment_dir, 'Data_Output_Classifier_All_Test_'+name+'.csv'), sep = ' ', index = None)\n",
    "df_train_results.to_csv(os.path.join(experiment_dir, 'Data_Output_Classifier_All_Train_'+name+'.csv'), sep = ' ', index = None)"
   ]
  },
  {
   "cell_type": "code",
   "execution_count": 33,
   "metadata": {},
   "outputs": [],
   "source": [
    "df_combine = pd.read_csv(os.path.join(experiment_dir, 'Data_Output_Classifier_'+name+'.csv'), sep = ' ')"
   ]
  },
  {
   "cell_type": "code",
   "execution_count": 34,
   "metadata": {},
   "outputs": [
    {
     "data": {
      "image/png": "[encoded data removed]",
      "text/plain": [
       "<Figure size 432x288 with 1 Axes>"
      ]
     },
     "metadata": {
      "needs_background": "light"
     },
     "output_type": "display_data"
    }
   ],
   "source": [
    "#Reliability Curve\n",
    "from sklearn.calibration import CalibratedClassifierCV, calibration_curve\n",
    "from sklearn.metrics import (brier_score_loss, precision_score, recall_score,\n",
    "                             f1_score)\n",
    "\n",
    "fraction_of_positives, mean_predicted_value = calibration_curve(df_combine['label'], df_combine[\"prob\"], n_bins=10)\n",
    "clf_score = brier_score_loss(df_combine['label'], df_combine[\"prob\"], pos_label=1)\n",
    "plt.plot(mean_predicted_value, fraction_of_positives, \"s-\",\n",
    "                 label=\"%s (%1.3f)\" % ('Data', clf_score))\n",
    "plt.plot([0, 1], [0, 1], \"k:\", label=\"Perfectly calibrated\")\n",
    "plt.ylabel('Fraction of positives')\n",
    "plt.ylim([-0.05, 1.05])\n",
    "plt.title('Calibration plots  (reliability curve)')\n",
    "plt.legend()\n",
    "plt.show()"
   ]
  },
  {
   "cell_type": "code",
   "execution_count": null,
   "metadata": {},
   "outputs": [],
   "source": []
  },
  {
   "cell_type": "code",
   "execution_count": null,
   "metadata": {},
   "outputs": [],
   "source": []
  }
 ],
 "metadata": {
  "kernelspec": {
   "display_name": "disco-container-notebook",
   "language": "python",
   "name": "disco-container-notebook"
  },
  "language_info": {
   "codemirror_mode": {
    "name": "ipython",
    "version": 3
   },
   "file_extension": ".py",
   "mimetype": "text/x-python",
   "name": "python",
   "nbconvert_exporter": "python",
   "pygments_lexer": "ipython3",
   "version": "3.5.2"
  },
  "toc": {
   "base_numbering": 1,
   "nav_menu": {},
   "number_sections": true,
   "sideBar": true,
   "skip_h1_title": false,
   "title_cell": "Table of Contents",
   "title_sidebar": "Contents",
   "toc_cell": false,
   "toc_position": {},
   "toc_section_display": true,
   "toc_window_display": false
  }
 },
 "nbformat": 4,
 "nbformat_minor": 2
}
