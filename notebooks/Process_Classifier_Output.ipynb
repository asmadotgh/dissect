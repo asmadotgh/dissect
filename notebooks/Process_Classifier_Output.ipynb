{
 "cells": [
  {
   "cell_type": "markdown",
   "metadata": {},
   "source": [
    "# Imports"
   ]
  },
  {
   "cell_type": "code",
   "execution_count": 1,
   "metadata": {},
   "outputs": [
    {
     "name": "stderr",
     "output_type": "stream",
     "text": [
      "/pghbio/dbmi/batmanlab/singla/anaconda/lib/python2.7/site-packages/sklearn/utils/__init__.py:12: RuntimeWarning: numpy.dtype size changed, may indicate binary incompatibility. Expected 96, got 88\n",
      "  from .murmurhash import murmurhash3_32\n",
      "/pghbio/dbmi/batmanlab/singla/anaconda/lib/python2.7/site-packages/sklearn/utils/extmath.py:23: RuntimeWarning: numpy.dtype size changed, may indicate binary incompatibility. Expected 96, got 88\n",
      "  from ._logistic_sigmoid import _log_logistic_sigmoid\n",
      "/pghbio/dbmi/batmanlab/singla/anaconda/lib/python2.7/site-packages/sklearn/utils/extmath.py:25: RuntimeWarning: numpy.dtype size changed, may indicate binary incompatibility. Expected 96, got 88\n",
      "  from .sparsefuncs_fast import csr_row_norms\n",
      "/pghbio/dbmi/batmanlab/singla/anaconda/lib/python2.7/site-packages/sklearn/metrics/cluster/supervised.py:25: RuntimeWarning: numpy.dtype size changed, may indicate binary incompatibility. Expected 96, got 88\n",
      "  from .expected_mutual_info_fast import expected_mutual_information\n",
      "/pghbio/dbmi/batmanlab/singla/anaconda/lib/python2.7/site-packages/sklearn/metrics/pairwise.py:31: RuntimeWarning: numpy.dtype size changed, may indicate binary incompatibility. Expected 96, got 88\n",
      "  from .pairwise_fast import _chi2_kernel_fast, _sparse_manhattan\n"
     ]
    }
   ],
   "source": [
    "import numpy as np\n",
    "import pandas as pd\n",
    "import os\n",
    "import matplotlib.pyplot as plt\n",
    "import sys\n",
    "sys.path.append(\"../\")\n",
    "import yaml\n",
    "from utils import *\n",
    "from sklearn.metrics import roc_auc_score\n",
    "from sklearn.metrics import accuracy_score\n",
    "from sklearn.metrics import recall_score\n",
    "from sklearn.metrics import confusion_matrix\n",
    "import scipy.misc as scm\n",
    "import warnings\n",
    "warnings.filterwarnings(\"ignore\")\n",
    "warnings.filterwarnings(\"ignore\", category=DeprecationWarning) \n",
    "np.random.seed(0)"
   ]
  },
  {
   "cell_type": "markdown",
   "metadata": {},
   "source": [
    "# Read config"
   ]
  },
  {
   "cell_type": "code",
   "execution_count": 2,
   "metadata": {},
   "outputs": [
    {
     "name": "stdout",
     "output_type": "stream",
     "text": [
      "('num_class', 1)\n",
      "('name', 'CelebA-Young')\n",
      "('image_dir', '/pghbio/dbmi/batmanlab/singla/MICCAI_2019/GAN_Interpretability/data/celebA/images')\n",
      "('ckpt_dir_continue', '')\n",
      "('batch_size', 32)\n",
      "('num_channel', 3)\n",
      "('epochs', 5)\n",
      "('train', './data/CelebA/train_ids.npy')\n",
      "('log_dir', './output/classifier')\n",
      "('test', './data/CelebA/test_ids.npy')\n",
      "('input_size', 128)\n",
      "('image_label_dict', './data/CelebA/Young_binary_classification.txt')\n"
     ]
    }
   ],
   "source": [
    "config = '../configs/celebA_Young_Classifier.yaml'\n",
    "config = yaml.load(open(config))\n",
    "for k in config.keys():\n",
    "    print(k, config[k])"
   ]
  },
  {
   "cell_type": "code",
   "execution_count": 3,
   "metadata": {},
   "outputs": [
    {
     "name": "stdout",
     "output_type": "stream",
     "text": [
      "../output/classifier/CelebA-Young/classifier_output\n"
     ]
    }
   ],
   "source": [
    "output_dir = os.path.join('.'+config['log_dir'], config['name'], 'classifier_output')\n",
    "print(output_dir)"
   ]
  },
  {
   "cell_type": "code",
   "execution_count": 5,
   "metadata": {},
   "outputs": [
    {
     "name": "stdout",
     "output_type": "stream",
     "text": [
      "['Young']\n"
     ]
    }
   ],
   "source": [
    "categories, file_names_dict = read_data_file('.'+config['image_label_dict'])\n",
    "print(categories)"
   ]
  },
  {
   "cell_type": "markdown",
   "metadata": {},
   "source": [
    "# Load saved output from classifier"
   ]
  },
  {
   "cell_type": "code",
   "execution_count": 9,
   "metadata": {},
   "outputs": [
    {
     "name": "stdout",
     "output_type": "stream",
     "text": [
      "((182592,), (182592, 2), (182592,))\n",
      "((19904,), (19904, 2), (19904,))\n"
     ]
    }
   ],
   "source": [
    "# Read classifier output\n",
    "train_or_test = 'train'\n",
    "names = np.load(os.path.join(output_dir, 'name_' +train_or_test+'.npy'))\n",
    "prediction_y = np.load(os.path.join(output_dir, 'prediction_y_' +train_or_test+'.npy'))\n",
    "true_y = np.load(os.path.join(output_dir, 'true_y_' +train_or_test+'.npy'))\n",
    "train_or_test = 'test'\n",
    "names_i = np.load(os.path.join(output_dir,'name_' +train_or_test+'.npy'))\n",
    "prediction_y_i = np.load(os.path.join(output_dir, 'prediction_y_' +train_or_test+'.npy'))\n",
    "true_y_i = np.load(os.path.join(output_dir, 'true_y_' +train_or_test+'.npy'))\n",
    "print(names.shape, prediction_y.shape, true_y.shape)\n",
    "print(names_i.shape, prediction_y_i.shape, true_y_i.shape)"
   ]
  },
  {
   "cell_type": "code",
   "execution_count": 10,
   "metadata": {},
   "outputs": [],
   "source": [
    "true_y = np.reshape(true_y, [-1,len(categories)])\n",
    "true_y_i = np.reshape(true_y_i, [-1,len(categories)])"
   ]
  },
  {
   "cell_type": "markdown",
   "metadata": {},
   "source": [
    "## View results from classifier"
   ]
  },
  {
   "cell_type": "code",
   "execution_count": 11,
   "metadata": {
    "scrolled": true
   },
   "outputs": [
    {
     "name": "stdout",
     "output_type": "stream",
     "text": [
      "('Young', 0)\n",
      "('ROC-AUC train: ', 0.9550208897069143)\n",
      "('ROC-AUC test: ', 0.9165445500120394)\n",
      "('Accuracy train: ', 0.9128220294426919)\n",
      "('Accuracy test: ', 0.8782154340836013)\n",
      "('Recall train: ', 0.9640072324556447)\n",
      "('Recall test: ', 0.9487128450106157)\n",
      "('Stats train: ', (array([0, 1]), array([ 41008, 141584])), 136488)\n",
      "('Stats test: ', (array([0, 1]), array([ 4832, 15072])), 14299)\n",
      "[[ 3181  1651]\n",
      " [  773 14299]]\n",
      "[[ 30186  10822]\n",
      " [  5096 136488]]\n"
     ]
    }
   ],
   "source": [
    "for i in range(prediction_y.shape[1]):\n",
    "    print(categories[i],i)\n",
    "    if prediction_y.shape[1] == 2:\n",
    "        j = 1\n",
    "    else:\n",
    "        j = i\n",
    "    print(\"ROC-AUC train: \", roc_auc_score(true_y[:,i], prediction_y[:,j]))\n",
    "    try:\n",
    "        print(\"ROC-AUC test: \", roc_auc_score(true_y_i[:,i], prediction_y_i[:,j]))\n",
    "    except:\n",
    "        a = 0\n",
    "    print(\"Accuracy train: \", accuracy_score(true_y[:,i], (prediction_y[:,j]>0.5).astype(int)))\n",
    "    print(\"Accuracy test: \", accuracy_score(true_y_i[:,i], (prediction_y_i[:,j]>0.5).astype(int)))\n",
    "    print(\"Recall train: \", recall_score(true_y[:,i], (prediction_y[:,j]>0.5).astype(int)))\n",
    "    print(\"Recall test: \", recall_score(true_y_i[:,i], (prediction_y_i[:,j]>0.5).astype(int)))\n",
    "    tp = np.sum((prediction_y[true_y[:,i] == 1,j]>0.5).astype(int))\n",
    "    tp_i = np.sum((prediction_y_i[true_y_i[:,i] == 1,j]>0.5).astype(int))\n",
    "    print(\"Stats train: \", np.unique(true_y[:,i], return_counts=True), tp)\n",
    "    print(\"Stats test: \", np.unique(true_y_i[:,i], return_counts=True),tp_i)\n",
    "    print(confusion_matrix(true_y_i[:,i],  (prediction_y_i[:,j]>0.5).astype(int)))\n",
    "    print(confusion_matrix(true_y[:,i],  (prediction_y[:,j]>0.5).astype(int)))\n",
    "    if prediction_y.shape[1] == 2:\n",
    "        break"
   ]
  },
  {
   "cell_type": "markdown",
   "metadata": {},
   "source": [
    "## Choose a traget class to build explanation"
   ]
  },
  {
   "cell_type": "code",
   "execution_count": 12,
   "metadata": {},
   "outputs": [
    {
     "name": "stdout",
     "output_type": "stream",
     "text": [
      "Young\n"
     ]
    }
   ],
   "source": [
    "current_index = 0\n",
    "name = categories[current_index]\n",
    "print(name)\n",
    "current_index_prob = 1"
   ]
  },
  {
   "cell_type": "markdown",
   "metadata": {},
   "source": [
    "## Create a dataframe from results"
   ]
  },
  {
   "cell_type": "code",
   "execution_count": 13,
   "metadata": {},
   "outputs": [
    {
     "name": "stdout",
     "output_type": "stream",
     "text": [
      "(19904, 4)\n",
      "(array([0, 1, 2, 3, 4, 5, 6, 7, 8, 9]), array([ 1542,   681,   563,   568,   600,   689,   898,  1334,  2240,\n",
      "       10789]))\n"
     ]
    },
    {
     "data": {
      "text/html": [
       "<div>\n",
       "<style scoped>\n",
       "    .dataframe tbody tr th:only-of-type {\n",
       "        vertical-align: middle;\n",
       "    }\n",
       "\n",
       "    .dataframe tbody tr th {\n",
       "        vertical-align: top;\n",
       "    }\n",
       "\n",
       "    .dataframe thead th {\n",
       "        text-align: right;\n",
       "    }\n",
       "</style>\n",
       "<table border=\"1\" class=\"dataframe\">\n",
       "  <thead>\n",
       "    <tr style=\"text-align: right;\">\n",
       "      <th></th>\n",
       "      <th>filename</th>\n",
       "      <th>label</th>\n",
       "      <th>prob</th>\n",
       "      <th>bin</th>\n",
       "    </tr>\n",
       "  </thead>\n",
       "  <tbody>\n",
       "    <tr>\n",
       "      <th>0</th>\n",
       "      <td>/pghbio/dbmi/batmanlab/singla/MICCAI_2019/GAN_...</td>\n",
       "      <td>0</td>\n",
       "      <td>0.515488</td>\n",
       "      <td>5</td>\n",
       "    </tr>\n",
       "    <tr>\n",
       "      <th>1</th>\n",
       "      <td>/pghbio/dbmi/batmanlab/singla/MICCAI_2019/GAN_...</td>\n",
       "      <td>1</td>\n",
       "      <td>0.827865</td>\n",
       "      <td>8</td>\n",
       "    </tr>\n",
       "    <tr>\n",
       "      <th>2</th>\n",
       "      <td>/pghbio/dbmi/batmanlab/singla/MICCAI_2019/GAN_...</td>\n",
       "      <td>0</td>\n",
       "      <td>0.00112322</td>\n",
       "      <td>0</td>\n",
       "    </tr>\n",
       "  </tbody>\n",
       "</table>\n",
       "</div>"
      ],
      "text/plain": [
       "                                            filename label        prob  bin\n",
       "0  /pghbio/dbmi/batmanlab/singla/MICCAI_2019/GAN_...     0    0.515488    5\n",
       "1  /pghbio/dbmi/batmanlab/singla/MICCAI_2019/GAN_...     1    0.827865    8\n",
       "2  /pghbio/dbmi/batmanlab/singla/MICCAI_2019/GAN_...     0  0.00112322    0"
      ]
     },
     "execution_count": 13,
     "metadata": {},
     "output_type": "execute_result"
    }
   ],
   "source": [
    "df_test_results = pd.DataFrame(data = [names_i, true_y_i[:,current_index], prediction_y_i[:,current_index_prob]]).T\n",
    "df_test_results = df_test_results.rename(index=str, columns={0: \"filename\", 1: \"label\", 2:\"prob\"})\n",
    "df_test_results['bin'] = np.floor(df_test_results[\"prob\"].astype('float') * 10).astype('int')\n",
    "print(df_test_results.shape)\n",
    "print(np.unique(df_test_results['bin'] ,return_counts=True))\n",
    "df_test_results.head(3)"
   ]
  },
  {
   "cell_type": "code",
   "execution_count": 14,
   "metadata": {},
   "outputs": [
    {
     "name": "stdout",
     "output_type": "stream",
     "text": [
      "(182592, 4)\n",
      "(array([0, 1, 2, 3, 4, 5, 6, 7, 8, 9]), array([ 15139,   5750,   4677,   4659,   5057,   6274,   8070,  11743,\n",
      "        20583, 100640]))\n"
     ]
    },
    {
     "data": {
      "text/html": [
       "<div>\n",
       "<style scoped>\n",
       "    .dataframe tbody tr th:only-of-type {\n",
       "        vertical-align: middle;\n",
       "    }\n",
       "\n",
       "    .dataframe tbody tr th {\n",
       "        vertical-align: top;\n",
       "    }\n",
       "\n",
       "    .dataframe thead th {\n",
       "        text-align: right;\n",
       "    }\n",
       "</style>\n",
       "<table border=\"1\" class=\"dataframe\">\n",
       "  <thead>\n",
       "    <tr style=\"text-align: right;\">\n",
       "      <th></th>\n",
       "      <th>filename</th>\n",
       "      <th>label</th>\n",
       "      <th>prob</th>\n",
       "      <th>bin</th>\n",
       "    </tr>\n",
       "  </thead>\n",
       "  <tbody>\n",
       "    <tr>\n",
       "      <th>0</th>\n",
       "      <td>/pghbio/dbmi/batmanlab/singla/MICCAI_2019/GAN_...</td>\n",
       "      <td>1</td>\n",
       "      <td>0.844439</td>\n",
       "      <td>8</td>\n",
       "    </tr>\n",
       "    <tr>\n",
       "      <th>1</th>\n",
       "      <td>/pghbio/dbmi/batmanlab/singla/MICCAI_2019/GAN_...</td>\n",
       "      <td>0</td>\n",
       "      <td>0.62697</td>\n",
       "      <td>6</td>\n",
       "    </tr>\n",
       "    <tr>\n",
       "      <th>2</th>\n",
       "      <td>/pghbio/dbmi/batmanlab/singla/MICCAI_2019/GAN_...</td>\n",
       "      <td>1</td>\n",
       "      <td>0.922537</td>\n",
       "      <td>9</td>\n",
       "    </tr>\n",
       "  </tbody>\n",
       "</table>\n",
       "</div>"
      ],
      "text/plain": [
       "                                            filename label      prob  bin\n",
       "0  /pghbio/dbmi/batmanlab/singla/MICCAI_2019/GAN_...     1  0.844439    8\n",
       "1  /pghbio/dbmi/batmanlab/singla/MICCAI_2019/GAN_...     0   0.62697    6\n",
       "2  /pghbio/dbmi/batmanlab/singla/MICCAI_2019/GAN_...     1  0.922537    9"
      ]
     },
     "execution_count": 14,
     "metadata": {},
     "output_type": "execute_result"
    }
   ],
   "source": [
    "df_train_results = pd.DataFrame(data = [names, true_y[:,current_index], prediction_y[:,current_index_prob]]).T\n",
    "df_train_results = df_train_results.rename(index=str, columns={0: \"filename\", 1: \"label\", 2:\"prob\"})\n",
    "df_train_results['bin'] = np.floor(df_train_results[\"prob\"].astype('float') * 10).astype('int')\n",
    "print(df_train_results.shape)\n",
    "print(np.unique(df_train_results['bin'] ,return_counts=True))\n",
    "df_train_results.head(3)"
   ]
  },
  {
   "cell_type": "code",
   "execution_count": 15,
   "metadata": {},
   "outputs": [
    {
     "name": "stdout",
     "output_type": "stream",
     "text": [
      "(202496, 4)\n"
     ]
    },
    {
     "data": {
      "text/html": [
       "<div>\n",
       "<style scoped>\n",
       "    .dataframe tbody tr th:only-of-type {\n",
       "        vertical-align: middle;\n",
       "    }\n",
       "\n",
       "    .dataframe tbody tr th {\n",
       "        vertical-align: top;\n",
       "    }\n",
       "\n",
       "    .dataframe thead th {\n",
       "        text-align: right;\n",
       "    }\n",
       "</style>\n",
       "<table border=\"1\" class=\"dataframe\">\n",
       "  <thead>\n",
       "    <tr style=\"text-align: right;\">\n",
       "      <th></th>\n",
       "      <th>filename</th>\n",
       "      <th>label</th>\n",
       "      <th>prob</th>\n",
       "      <th>bin</th>\n",
       "    </tr>\n",
       "  </thead>\n",
       "  <tbody>\n",
       "    <tr>\n",
       "      <th>0</th>\n",
       "      <td>/pghbio/dbmi/batmanlab/singla/MICCAI_2019/GAN_...</td>\n",
       "      <td>1</td>\n",
       "      <td>0.844439</td>\n",
       "      <td>8</td>\n",
       "    </tr>\n",
       "  </tbody>\n",
       "</table>\n",
       "</div>"
      ],
      "text/plain": [
       "                                            filename label      prob  bin\n",
       "0  /pghbio/dbmi/batmanlab/singla/MICCAI_2019/GAN_...     1  0.844439    8"
      ]
     },
     "execution_count": 15,
     "metadata": {},
     "output_type": "execute_result"
    }
   ],
   "source": [
    "df = pd.concat([df_train_results, df_test_results])\n",
    "df = df.drop_duplicates()\n",
    "print(df.shape)\n",
    "df.head(1)"
   ]
  },
  {
   "cell_type": "markdown",
   "metadata": {},
   "source": [
    "## Plot reliability curve"
   ]
  },
  {
   "cell_type": "code",
   "execution_count": 16,
   "metadata": {},
   "outputs": [
    {
     "data": {
      "image/png": "[encoded data removed]",
      "text/plain": [
       "<Figure size 432x288 with 1 Axes>"
      ]
     },
     "metadata": {
      "needs_background": "light"
     },
     "output_type": "display_data"
    }
   ],
   "source": [
    "#Reliability Curve\n",
    "from sklearn.calibration import CalibratedClassifierCV, calibration_curve\n",
    "from sklearn.metrics import (brier_score_loss, precision_score, recall_score,\n",
    "                             f1_score)\n",
    "true_label = np.asarray(df['label']).astype(int)\n",
    "predicted_prob = np.asarray(df[\"prob\"]).astype(float)\n",
    "fraction_of_positives, mean_predicted_value = calibration_curve(true_label, predicted_prob, n_bins=10)\n",
    "clf_score = brier_score_loss(true_label, predicted_prob, pos_label=1)\n",
    "plt.plot(mean_predicted_value, fraction_of_positives, \"s-\",\n",
    "                 label=\"%s (%1.3f)\" % ('Data-before binning', clf_score))\n",
    "plt.plot([0, 1], [0, 1], \"k:\", label=\"Perfectly calibrated\")\n",
    "plt.ylabel('Fraction of positives')\n",
    "#plt.ylim([-0.05, 1.05])\n",
    "plt.title('Calibration plots  (reliability curve) for '+ name)\n",
    "plt.legend()\n",
    "plt.show()"
   ]
  },
  {
   "cell_type": "markdown",
   "metadata": {},
   "source": [
    "# Create bins"
   ]
  },
  {
   "cell_type": "code",
   "execution_count": 17,
   "metadata": {},
   "outputs": [
    {
     "data": {
      "text/html": [
       "<div>\n",
       "<style scoped>\n",
       "    .dataframe tbody tr th:only-of-type {\n",
       "        vertical-align: middle;\n",
       "    }\n",
       "\n",
       "    .dataframe tbody tr th {\n",
       "        vertical-align: top;\n",
       "    }\n",
       "\n",
       "    .dataframe thead th {\n",
       "        text-align: right;\n",
       "    }\n",
       "</style>\n",
       "<table border=\"1\" class=\"dataframe\">\n",
       "  <thead>\n",
       "    <tr style=\"text-align: right;\">\n",
       "      <th></th>\n",
       "      <th>filename</th>\n",
       "      <th>label</th>\n",
       "      <th>prob</th>\n",
       "      <th>bin</th>\n",
       "    </tr>\n",
       "  </thead>\n",
       "  <tbody>\n",
       "    <tr>\n",
       "      <th>0</th>\n",
       "      <td>/pghbio/dbmi/batmanlab/singla/MICCAI_2019/GAN_...</td>\n",
       "      <td>1</td>\n",
       "      <td>0.844439</td>\n",
       "      <td>8</td>\n",
       "    </tr>\n",
       "  </tbody>\n",
       "</table>\n",
       "</div>"
      ],
      "text/plain": [
       "                                            filename label      prob  bin\n",
       "0  /pghbio/dbmi/batmanlab/singla/MICCAI_2019/GAN_...     1  0.844439    8"
      ]
     },
     "execution_count": 17,
     "metadata": {},
     "output_type": "execute_result"
    }
   ],
   "source": [
    "df.head(1)"
   ]
  },
  {
   "cell_type": "code",
   "execution_count": 18,
   "metadata": {},
   "outputs": [
    {
     "data": {
      "text/html": [
       "<div>\n",
       "<style scoped>\n",
       "    .dataframe tbody tr th:only-of-type {\n",
       "        vertical-align: middle;\n",
       "    }\n",
       "\n",
       "    .dataframe tbody tr th {\n",
       "        vertical-align: top;\n",
       "    }\n",
       "\n",
       "    .dataframe thead th {\n",
       "        text-align: right;\n",
       "    }\n",
       "</style>\n",
       "<table border=\"1\" class=\"dataframe\">\n",
       "  <thead>\n",
       "    <tr style=\"text-align: right;\">\n",
       "      <th></th>\n",
       "      <th>filename</th>\n",
       "      <th>label</th>\n",
       "      <th>prob</th>\n",
       "    </tr>\n",
       "    <tr>\n",
       "      <th>bin</th>\n",
       "      <th></th>\n",
       "      <th></th>\n",
       "      <th></th>\n",
       "    </tr>\n",
       "  </thead>\n",
       "  <tbody>\n",
       "    <tr>\n",
       "      <th>0</th>\n",
       "      <td>16681</td>\n",
       "      <td>16681</td>\n",
       "      <td>16681</td>\n",
       "    </tr>\n",
       "    <tr>\n",
       "      <th>1</th>\n",
       "      <td>6431</td>\n",
       "      <td>6431</td>\n",
       "      <td>6431</td>\n",
       "    </tr>\n",
       "    <tr>\n",
       "      <th>2</th>\n",
       "      <td>5240</td>\n",
       "      <td>5240</td>\n",
       "      <td>5240</td>\n",
       "    </tr>\n",
       "    <tr>\n",
       "      <th>3</th>\n",
       "      <td>5227</td>\n",
       "      <td>5227</td>\n",
       "      <td>5227</td>\n",
       "    </tr>\n",
       "    <tr>\n",
       "      <th>4</th>\n",
       "      <td>5657</td>\n",
       "      <td>5657</td>\n",
       "      <td>5657</td>\n",
       "    </tr>\n",
       "    <tr>\n",
       "      <th>5</th>\n",
       "      <td>6963</td>\n",
       "      <td>6963</td>\n",
       "      <td>6963</td>\n",
       "    </tr>\n",
       "    <tr>\n",
       "      <th>6</th>\n",
       "      <td>8968</td>\n",
       "      <td>8968</td>\n",
       "      <td>8968</td>\n",
       "    </tr>\n",
       "    <tr>\n",
       "      <th>7</th>\n",
       "      <td>13077</td>\n",
       "      <td>13077</td>\n",
       "      <td>13077</td>\n",
       "    </tr>\n",
       "    <tr>\n",
       "      <th>8</th>\n",
       "      <td>22823</td>\n",
       "      <td>22823</td>\n",
       "      <td>22823</td>\n",
       "    </tr>\n",
       "    <tr>\n",
       "      <th>9</th>\n",
       "      <td>111429</td>\n",
       "      <td>111429</td>\n",
       "      <td>111429</td>\n",
       "    </tr>\n",
       "  </tbody>\n",
       "</table>\n",
       "</div>"
      ],
      "text/plain": [
       "     filename   label    prob\n",
       "bin                          \n",
       "0       16681   16681   16681\n",
       "1        6431    6431    6431\n",
       "2        5240    5240    5240\n",
       "3        5227    5227    5227\n",
       "4        5657    5657    5657\n",
       "5        6963    6963    6963\n",
       "6        8968    8968    8968\n",
       "7       13077   13077   13077\n",
       "8       22823   22823   22823\n",
       "9      111429  111429  111429"
      ]
     },
     "execution_count": 18,
     "metadata": {},
     "output_type": "execute_result"
    }
   ],
   "source": [
    "df.groupby(by='bin').count()"
   ]
  },
  {
   "cell_type": "code",
   "execution_count": 19,
   "metadata": {},
   "outputs": [],
   "source": [
    "n = 5000"
   ]
  },
  {
   "cell_type": "markdown",
   "metadata": {},
   "source": [
    "## Caliberated Sampling"
   ]
  },
  {
   "cell_type": "code",
   "execution_count": 20,
   "metadata": {},
   "outputs": [
    {
     "name": "stdout",
     "output_type": "stream",
     "text": [
      "0\n",
      "(16681, 4)\n",
      "(0.0007171524, 0.09998914)\n",
      "(array([0, 1], dtype=object), array([16318,   363]))\n",
      "(5000, 4)\n",
      "(array([0], dtype=object), array([5000]))\n",
      "1\n",
      "(6431, 4)\n",
      "(0.10001118, 0.1999923)\n",
      "(array([0, 1], dtype=object), array([5839,  592]))\n",
      "(10000, 4)\n",
      "(array([0, 1], dtype=object), array([4500,  500]))\n",
      "2\n",
      "(5240, 4)\n",
      "(0.20003144, 0.29999465)\n",
      "(array([0, 1], dtype=object), array([4261,  979]))\n",
      "(14979, 4)\n",
      "(array([0, 1], dtype=object), array([4000,  979]))\n",
      "3\n",
      "(5227, 4)\n",
      "(0.30000046, 0.39999443)\n",
      "(array([0, 1], dtype=object), array([3650, 1577]))\n",
      "(19979, 4)\n",
      "(array([0, 1], dtype=object), array([3500, 1500]))\n",
      "4\n",
      "(5657, 4)\n",
      "(0.40000233, 0.49996912)\n",
      "(array([0, 1], dtype=object), array([3299, 2358]))\n",
      "(24979, 4)\n",
      "(array([0, 1], dtype=object), array([3000, 2000]))\n",
      "5\n",
      "(6963, 4)\n",
      "(0.50001943, 0.5999812)\n",
      "(array([0, 1], dtype=object), array([3098, 3865]))\n",
      "(29979, 4)\n",
      "(array([0, 1], dtype=object), array([2500, 2500]))\n",
      "6\n",
      "(8968, 4)\n",
      "(0.6000243, 0.6999913)\n",
      "(array([0, 1], dtype=object), array([2754, 6214]))\n",
      "(34979, 4)\n",
      "(array([0, 1], dtype=object), array([1999, 3001]))\n",
      "7\n",
      "(13077, 4)\n",
      "(0.7000081, 0.7999919)\n",
      "(array([0, 1], dtype=object), array([ 2547, 10530]))\n",
      "(39979, 4)\n",
      "(array([0, 1], dtype=object), array([1499, 3501]))\n",
      "8\n",
      "(22823, 4)\n",
      "(0.800014, 0.8999956)\n",
      "(array([0, 1], dtype=object), array([ 2347, 20476]))\n",
      "(44979, 4)\n",
      "(array([0, 1], dtype=object), array([ 999, 4001]))\n",
      "9\n",
      "(111429, 4)\n",
      "(0.90000635, 0.9999788)\n",
      "(array([0, 1], dtype=object), array([  1727, 109702]))\n",
      "(49979, 4)\n",
      "(array([0, 1], dtype=object), array([ 499, 4501]))\n"
     ]
    }
   ],
   "source": [
    "for i in range(10):\n",
    "    print i\n",
    "    df_bin = df.loc[df['bin'] == i]\n",
    "    print(df_bin.shape)\n",
    "    print(np.min(df_bin['prob']), np.max(df_bin['prob']))\n",
    "    print(np.unique(df_bin['label'],return_counts=True))\n",
    "    df_bin_0 = df.loc[(df['bin'] == i) & (df['label'] ==0)]\n",
    "    df_bin_1 = df.loc[(df['bin'] == i) & (df['label'] ==1)]\n",
    "    n_0 = int((1 - (0.1 * i) ) * n)\n",
    "    if df_bin_0.shape[0] >= n_0:\n",
    "        df_bin = df_bin_0.sample(n=n_0)\n",
    "    else:\n",
    "        df_bin = df_bin_0\n",
    "        n_0 = df_bin_0.shape[0]\n",
    "    n_1 = n - n_0\n",
    "    if df_bin_1.shape[0] >= n_1:\n",
    "        df_bin = pd.concat([df_bin, df_bin_1.sample(n=n_1)])        \n",
    "    else:\n",
    "        df_bin = pd.concat([df_bin, df_bin_1])    \n",
    "        \n",
    "    if i == 0:\n",
    "        df_bin_all = df_bin\n",
    "    else:\n",
    "        df_bin_all = pd.concat([df_bin, df_bin_all])\n",
    "    print(df_bin_all.shape)\n",
    "    print(np.unique(df_bin['label'],return_counts=True))"
   ]
  },
  {
   "cell_type": "code",
   "execution_count": 21,
   "metadata": {},
   "outputs": [
    {
     "name": "stdout",
     "output_type": "stream",
     "text": [
      "(array([0, 1, 2, 3, 4, 5, 6, 7, 8, 9]), array([5000, 5000, 4979, 5000, 5000, 5000, 5000, 5000, 5000, 5000]))\n"
     ]
    }
   ],
   "source": [
    "print(np.unique(df_bin_all['bin'] ,return_counts=True))"
   ]
  },
  {
   "cell_type": "code",
   "execution_count": 22,
   "metadata": {},
   "outputs": [
    {
     "data": {
      "image/png": "[encoded data removed]",
      "text/plain": [
       "<Figure size 432x288 with 1 Axes>"
      ]
     },
     "metadata": {
      "needs_background": "light"
     },
     "output_type": "display_data"
    }
   ],
   "source": [
    "#Reliability Curve\n",
    "from sklearn.calibration import CalibratedClassifierCV, calibration_curve\n",
    "from sklearn.metrics import (brier_score_loss, precision_score, recall_score,\n",
    "                             f1_score)\n",
    "true_label = np.asarray(df_bin_all['label']).astype(int)\n",
    "predicted_prob = np.asarray(df_bin_all['prob']).astype(float)\n",
    "fraction_of_positives, mean_predicted_value = calibration_curve(true_label, predicted_prob, n_bins=10)\n",
    "clf_score = brier_score_loss(true_label, predicted_prob, pos_label=1)\n",
    "plt.plot(mean_predicted_value, fraction_of_positives, \"s-\",\n",
    "                 label=\"%s (%1.3f)\" % ('Data-after binning', clf_score))\n",
    "plt.plot([0, 1], [0, 1], \"k:\", label=\"Perfectly calibrated\")\n",
    "plt.ylabel('Fraction of positives')\n",
    "plt.ylim([-0.05, 1.05])\n",
    "plt.title('Calibration plots  (reliability curve) for '+name)\n",
    "plt.legend()\n",
    "plt.show()"
   ]
  },
  {
   "cell_type": "markdown",
   "metadata": {},
   "source": [
    "## Save the output"
   ]
  },
  {
   "cell_type": "code",
   "execution_count": 23,
   "metadata": {},
   "outputs": [],
   "source": [
    "experiment_dir = os.path.join('.'+config['log_dir'], config['name'], 'explainer_input')"
   ]
  },
  {
   "cell_type": "code",
   "execution_count": 24,
   "metadata": {},
   "outputs": [
    {
     "name": "stdout",
     "output_type": "stream",
     "text": [
      "('../output/classifier/CelebA-Young/explainer_input', 'Young')\n"
     ]
    }
   ],
   "source": [
    "print(experiment_dir,name)\n",
    "if not os.path.exists(experiment_dir):\n",
    "    os.makedirs(experiment_dir)"
   ]
  },
  {
   "cell_type": "code",
   "execution_count": 25,
   "metadata": {},
   "outputs": [
    {
     "name": "stdout",
     "output_type": "stream",
     "text": [
      "(49979, 2)\n",
      "49979\n",
      "\n",
      "0-0.09 0.1-0.19 0.2-0.29 0.3-0.39 0.4-0.49 0.5-0.59 0.6-0.69 0.7-0.79 0.8-0.89 0.9-0.99\n",
      "\n",
      "/pghbio/dbmi/batmanlab/singla/MICCAI_2019/GAN_Interpretability/data/celebA/images/001387.jpg 9\n",
      "\n",
      "/pghbio/dbmi/batmanlab/singla/MICCAI_2019/GAN_Interpretability/data/celebA/images/161987.jpg 9\n",
      "\n",
      "/pghbio/dbmi/batmanlab/singla/MICCAI_2019/GAN_Interpretability/data/celebA/images/043083.jpg 9\n",
      "\n",
      "/pghbio/dbmi/batmanlab/singla/MICCAI_2019/GAN_Interpretability/data/celebA/images/007607.jpg 9\n",
      "\n"
     ]
    }
   ],
   "source": [
    "df_temp = df_bin_all[['filename', 'bin']]\n",
    "df_temp.to_csv(os.path.join(experiment_dir, 'list_attr_celeba_'+name+'.txt'), sep = ' ', index = None, header = None)\n",
    "print(df_temp.shape)\n",
    "one_line = str(df_temp.shape[0]) + '\\n'\n",
    "second_line = \"0-0.09 0.1-0.19 0.2-0.29 0.3-0.39 0.4-0.49 0.5-0.59 0.6-0.69 0.7-0.79 0.8-0.89 0.9-0.99\\n\"\n",
    "with open(os.path.join(experiment_dir, 'list_attr_celeba_'+name+'.txt'), 'r+') as fp:\n",
    "    lines = fp.readlines()     # lines is list of line, each element '...\\n'\n",
    "    lines.insert(0, one_line)  # you can use any index if you know the line index\n",
    "    lines.insert(1, second_line)\n",
    "    fp.seek(0)                 # file pointer locates at the beginning to write the whole file again\n",
    "    fp.writelines(lines) \n",
    "fp = open(os.path.join(experiment_dir, 'list_attr_celeba_'+name+'.txt'), 'rw')\n",
    "print(fp.readline())\n",
    "print(fp.readline())\n",
    "print(fp.readline())\n",
    "print(fp.readline())\n",
    "print(fp.readline())\n",
    "print(fp.readline())\n",
    "df_bin_all.to_csv(os.path.join(experiment_dir, 'Data_Output_Classifier_'+name+'.csv'), sep = ' ', index = None)\n",
    "df_test_results.to_csv(os.path.join(experiment_dir, 'Data_Output_Classifier_All_Test_'+name+'.csv'), sep = ' ', index = None)\n",
    "df_train_results.to_csv(os.path.join(experiment_dir, 'Data_Output_Classifier_All_Train_'+name+'.csv'), sep = ' ', index = None)"
   ]
  },
  {
   "cell_type": "code",
   "execution_count": 26,
   "metadata": {},
   "outputs": [],
   "source": [
    "df_combine = pd.read_csv(os.path.join(experiment_dir, 'Data_Output_Classifier_'+name+'.csv'), sep = ' ')"
   ]
  },
  {
   "cell_type": "code",
   "execution_count": 27,
   "metadata": {},
   "outputs": [
    {
     "data": {
      "image/png": "[encoded data removed]",
      "text/plain": [
       "<Figure size 432x288 with 1 Axes>"
      ]
     },
     "metadata": {
      "needs_background": "light"
     },
     "output_type": "display_data"
    }
   ],
   "source": [
    "#Reliability Curve\n",
    "from sklearn.calibration import CalibratedClassifierCV, calibration_curve\n",
    "from sklearn.metrics import (brier_score_loss, precision_score, recall_score,\n",
    "                             f1_score)\n",
    "\n",
    "fraction_of_positives, mean_predicted_value = calibration_curve(df_combine['label'], df_combine[\"prob\"], n_bins=10)\n",
    "clf_score = brier_score_loss(df_combine['label'], df_combine[\"prob\"], pos_label=1)\n",
    "plt.plot(mean_predicted_value, fraction_of_positives, \"s-\",\n",
    "                 label=\"%s (%1.3f)\" % ('Data', clf_score))\n",
    "plt.plot([0, 1], [0, 1], \"k:\", label=\"Perfectly calibrated\")\n",
    "plt.ylabel('Fraction of positives')\n",
    "plt.ylim([-0.05, 1.05])\n",
    "plt.title('Calibration plots  (reliability curve)')\n",
    "plt.legend()\n",
    "plt.show()"
   ]
  },
  {
   "cell_type": "code",
   "execution_count": null,
   "metadata": {},
   "outputs": [],
   "source": []
  },
  {
   "cell_type": "code",
   "execution_count": null,
   "metadata": {},
   "outputs": [],
   "source": []
  }
 ],
 "metadata": {
  "kernelspec": {
   "display_name": "Python 2",
   "language": "python",
   "name": "python2"
  },
  "language_info": {
   "codemirror_mode": {
    "name": "ipython",
    "version": 2
   },
   "file_extension": ".py",
   "mimetype": "text/x-python",
   "name": "python",
   "nbconvert_exporter": "python",
   "pygments_lexer": "ipython2",
   "version": "2.7.15"
  },
  "toc": {
   "base_numbering": 1,
   "nav_menu": {},
   "number_sections": true,
   "sideBar": true,
   "skip_h1_title": false,
   "title_cell": "Table of Contents",
   "title_sidebar": "Contents",
   "toc_cell": false,
   "toc_position": {},
   "toc_section_display": true,
   "toc_window_display": false
  }
 },
 "nbformat": 4,
 "nbformat_minor": 2
}
