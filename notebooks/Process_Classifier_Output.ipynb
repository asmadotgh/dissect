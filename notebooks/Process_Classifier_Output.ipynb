{
 "cells": [
  {
   "cell_type": "markdown",
   "metadata": {},
   "source": [
    "# Imports"
   ]
  },
  {
   "cell_type": "code",
   "execution_count": 1,
   "metadata": {},
   "outputs": [
    {
     "name": "stderr",
     "output_type": "stream",
     "text": [
      "/usr/lib/python3.5/importlib/_bootstrap.py:222: RuntimeWarning: numpy.dtype size changed, may indicate binary incompatibility. Expected 96, got 88\n",
      "  return f(*args, **kwds)\n",
      "/usr/lib/python3.5/importlib/_bootstrap.py:222: RuntimeWarning: numpy.dtype size changed, may indicate binary incompatibility. Expected 96, got 88\n",
      "  return f(*args, **kwds)\n",
      "/usr/lib/python3.5/importlib/_bootstrap.py:222: RuntimeWarning: numpy.dtype size changed, may indicate binary incompatibility. Expected 96, got 88\n",
      "  return f(*args, **kwds)\n",
      "/usr/lib/python3.5/importlib/_bootstrap.py:222: RuntimeWarning: numpy.dtype size changed, may indicate binary incompatibility. Expected 96, got 88\n",
      "  return f(*args, **kwds)\n",
      "/usr/lib/python3.5/importlib/_bootstrap.py:222: RuntimeWarning: numpy.dtype size changed, may indicate binary incompatibility. Expected 96, got 88\n",
      "  return f(*args, **kwds)\n",
      "/usr/lib/python3.5/importlib/_bootstrap.py:222: RuntimeWarning: numpy.dtype size changed, may indicate binary incompatibility. Expected 96, got 88\n",
      "  return f(*args, **kwds)\n"
     ]
    }
   ],
   "source": [
    "import numpy as np\n",
    "import pandas as pd\n",
    "import os\n",
    "import matplotlib.pyplot as plt\n",
    "import sys\n",
    "sys.path.append(\"../\")\n",
    "import yaml\n",
    "from utils import *\n",
    "from sklearn.metrics import roc_auc_score\n",
    "from sklearn.metrics import accuracy_score\n",
    "from sklearn.metrics import recall_score\n",
    "from sklearn.metrics import confusion_matrix\n",
    "import scipy.misc as scm\n",
    "import warnings\n",
    "warnings.filterwarnings(\"ignore\")\n",
    "warnings.filterwarnings(\"ignore\", category=DeprecationWarning) \n",
    "np.random.seed(0)"
   ]
  },
  {
   "cell_type": "code",
   "execution_count": 2,
   "metadata": {},
   "outputs": [],
   "source": [
    "binary_attribute = 'Young'"
   ]
  },
  {
   "cell_type": "markdown",
   "metadata": {},
   "source": [
    "# Read config"
   ]
  },
  {
   "cell_type": "code",
   "execution_count": 3,
   "metadata": {},
   "outputs": [
    {
     "name": "stdout",
     "output_type": "stream",
     "text": [
      "train ./data/CelebA/train_ids.npy\n",
      "log_dir ./output/classifier\n",
      "test ./data/CelebA/test_ids.npy\n",
      "input_size 128\n",
      "num_channel 3\n",
      "image_dir ./data/CelebA/images/\n",
      "ckpt_dir_continue \n",
      "name CelebA-Young\n",
      "batch_size 32\n",
      "num_class 1\n",
      "epochs 5\n",
      "image_label_dict ./data/CelebA/Young_binary_classification.txt\n"
     ]
    }
   ],
   "source": [
    "config = '../configs/celebA_{}_Classifier.yaml'.format(binary_attribute)\n",
    "config = yaml.load(open(config))\n",
    "for k in config.keys():\n",
    "    print(k, config[k])"
   ]
  },
  {
   "cell_type": "code",
   "execution_count": 4,
   "metadata": {},
   "outputs": [
    {
     "name": "stdout",
     "output_type": "stream",
     "text": [
      "../output/classifier/CelebA-Young/classifier_output\n"
     ]
    }
   ],
   "source": [
    "output_dir = os.path.join('.' + config['log_dir'], config['name'], 'classifier_output')\n",
    "print(output_dir)"
   ]
  },
  {
   "cell_type": "code",
   "execution_count": 5,
   "metadata": {},
   "outputs": [
    {
     "name": "stdout",
     "output_type": "stream",
     "text": [
      "['Young']\n"
     ]
    }
   ],
   "source": [
    "categories, file_names_dict = read_data_file('.' + config['image_label_dict'])\n",
    "print(categories)"
   ]
  },
  {
   "cell_type": "markdown",
   "metadata": {},
   "source": [
    "# Load saved output from classifier"
   ]
  },
  {
   "cell_type": "code",
   "execution_count": 6,
   "metadata": {},
   "outputs": [
    {
     "name": "stdout",
     "output_type": "stream",
     "text": [
      "(135712,) (135712, 2) (135712, 1)\n",
      "(66848,) (66848, 2) (66848, 1)\n"
     ]
    }
   ],
   "source": [
    "# Read classifier output\n",
    "train_or_test = 'train1'\n",
    "names = np.load(os.path.join(output_dir, 'name_' +train_or_test+'.npy'), allow_pickle=True)\n",
    "prediction_y = np.load(os.path.join(output_dir, 'prediction_y_' +train_or_test+'.npy'))\n",
    "true_y = np.load(os.path.join(output_dir, 'true_y_' +train_or_test+'.npy'), allow_pickle=True)\n",
    "train_or_test = 'test1'\n",
    "names_i = np.load(os.path.join(output_dir,'name_' +train_or_test+'.npy'), allow_pickle=True)\n",
    "prediction_y_i = np.load(os.path.join(output_dir, 'prediction_y_' +train_or_test+'.npy'))\n",
    "true_y_i = np.load(os.path.join(output_dir, 'true_y_' +train_or_test+'.npy'))\n",
    "print(names.shape, prediction_y.shape, true_y.shape)\n",
    "print(names_i.shape, prediction_y_i.shape, true_y_i.shape)"
   ]
  },
  {
   "cell_type": "code",
   "execution_count": 7,
   "metadata": {},
   "outputs": [],
   "source": [
    "true_y = np.reshape(true_y, [-1, len(categories)])\n",
    "true_y_i = np.reshape(true_y_i, [-1, len(categories)])"
   ]
  },
  {
   "cell_type": "markdown",
   "metadata": {},
   "source": [
    "## View results from classifier"
   ]
  },
  {
   "cell_type": "code",
   "execution_count": 8,
   "metadata": {
    "scrolled": true
   },
   "outputs": [
    {
     "name": "stdout",
     "output_type": "stream",
     "text": [
      "Young 0\n",
      "ROC-AUC train:  0.9444020554586694\n",
      "ROC-AUC test:  0.9219710722841856\n",
      "Accuracy train:  0.9016372907333177\n",
      "Accuracy test:  0.8803255146002872\n",
      "Recall train:  0.9534797348773427\n",
      "Recall test:  0.9395651164590265\n",
      "Stats train:  (array([0., 1.], dtype=float32), array([ 30704, 105008])) 100123\n",
      "Stats test:  (array([0., 1.], dtype=float32), array([15156, 51692])) 48568\n",
      "[[10280  4876]\n",
      " [ 3124 48568]]\n",
      "[[ 22240   8464]\n",
      " [  4885 100123]]\n"
     ]
    }
   ],
   "source": [
    "for i in range(prediction_y.shape[1]):\n",
    "    print(categories[i],i)\n",
    "    if prediction_y.shape[1] == 2:\n",
    "        j = 1\n",
    "    else:\n",
    "        j = i\n",
    "    print(\"ROC-AUC train: \", roc_auc_score(true_y[:,i], prediction_y[:,j]))\n",
    "    try:\n",
    "        print(\"ROC-AUC test: \", roc_auc_score(true_y_i[:,i], prediction_y_i[:,j]))\n",
    "    except:\n",
    "        a = 0\n",
    "    print(\"Accuracy train: \", accuracy_score(true_y[:,i], (prediction_y[:,j]>0.5).astype(int)))\n",
    "    print(\"Accuracy test: \", accuracy_score(true_y_i[:,i], (prediction_y_i[:,j]>0.5).astype(int)))\n",
    "    print(\"Recall train: \", recall_score(true_y[:,i], (prediction_y[:,j]>0.5).astype(int)))\n",
    "    print(\"Recall test: \", recall_score(true_y_i[:,i], (prediction_y_i[:,j]>0.5).astype(int)))\n",
    "    tp = np.sum((prediction_y[true_y[:,i] == 1,j]>0.5).astype(int))\n",
    "    tp_i = np.sum((prediction_y_i[true_y_i[:,i] == 1,j]>0.5).astype(int))\n",
    "    print(\"Stats train: \", np.unique(true_y[:,i], return_counts=True), tp)\n",
    "    print(\"Stats test: \", np.unique(true_y_i[:,i], return_counts=True),tp_i)\n",
    "    print(confusion_matrix(true_y_i[:,i],  (prediction_y_i[:,j]>0.5).astype(int)))\n",
    "    print(confusion_matrix(true_y[:,i],  (prediction_y[:,j]>0.5).astype(int)))\n",
    "    if prediction_y.shape[1] == 2:\n",
    "        break"
   ]
  },
  {
   "cell_type": "markdown",
   "metadata": {},
   "source": [
    "## Choose a traget class to build explanation"
   ]
  },
  {
   "cell_type": "code",
   "execution_count": 9,
   "metadata": {},
   "outputs": [
    {
     "name": "stdout",
     "output_type": "stream",
     "text": [
      "Young\n"
     ]
    }
   ],
   "source": [
    "current_index = 0\n",
    "name = categories[current_index]\n",
    "print(name)\n",
    "current_index_prob = 1"
   ]
  },
  {
   "cell_type": "markdown",
   "metadata": {},
   "source": [
    "## Create a dataframe from results"
   ]
  },
  {
   "cell_type": "code",
   "execution_count": 10,
   "metadata": {},
   "outputs": [
    {
     "name": "stdout",
     "output_type": "stream",
     "text": [
      "(66848, 4)\n",
      "(array([0, 1, 2, 3, 4, 5, 6, 7, 8, 9]), array([ 5550,  2242,  1786,  1788,  2038,  2407,  3123,  4257,  7206,\n",
      "       36451]))\n"
     ]
    },
    {
     "data": {
      "text/html": [
       "<div>\n",
       "<style scoped>\n",
       "    .dataframe tbody tr th:only-of-type {\n",
       "        vertical-align: middle;\n",
       "    }\n",
       "\n",
       "    .dataframe tbody tr th {\n",
       "        vertical-align: top;\n",
       "    }\n",
       "\n",
       "    .dataframe thead th {\n",
       "        text-align: right;\n",
       "    }\n",
       "</style>\n",
       "<table border=\"1\" class=\"dataframe\">\n",
       "  <thead>\n",
       "    <tr style=\"text-align: right;\">\n",
       "      <th></th>\n",
       "      <th>filename</th>\n",
       "      <th>label</th>\n",
       "      <th>prob</th>\n",
       "      <th>bin</th>\n",
       "    </tr>\n",
       "  </thead>\n",
       "  <tbody>\n",
       "    <tr>\n",
       "      <th>0</th>\n",
       "      <td>174499.jpg</td>\n",
       "      <td>0</td>\n",
       "      <td>0.814025</td>\n",
       "      <td>8</td>\n",
       "    </tr>\n",
       "    <tr>\n",
       "      <th>1</th>\n",
       "      <td>145818.jpg</td>\n",
       "      <td>1</td>\n",
       "      <td>0.99652</td>\n",
       "      <td>9</td>\n",
       "    </tr>\n",
       "    <tr>\n",
       "      <th>2</th>\n",
       "      <td>102565.jpg</td>\n",
       "      <td>1</td>\n",
       "      <td>0.962789</td>\n",
       "      <td>9</td>\n",
       "    </tr>\n",
       "  </tbody>\n",
       "</table>\n",
       "</div>"
      ],
      "text/plain": [
       "     filename label      prob  bin\n",
       "0  174499.jpg     0  0.814025    8\n",
       "1  145818.jpg     1   0.99652    9\n",
       "2  102565.jpg     1  0.962789    9"
      ]
     },
     "execution_count": 10,
     "metadata": {},
     "output_type": "execute_result"
    }
   ],
   "source": [
    "df_test_results = pd.DataFrame(data = [names_i, true_y_i[:,current_index], prediction_y_i[:,current_index_prob]]).T\n",
    "df_test_results = df_test_results.rename(index=str, columns={0: \"filename\", 1: \"label\", 2:\"prob\"})\n",
    "df_test_results['bin'] = np.floor(df_test_results[\"prob\"].astype('float') * 10).astype('int')\n",
    "print(df_test_results.shape)\n",
    "print(np.unique(df_test_results['bin'], return_counts=True))\n",
    "df_test_results.head(3)"
   ]
  },
  {
   "cell_type": "code",
   "execution_count": 11,
   "metadata": {},
   "outputs": [
    {
     "name": "stdout",
     "output_type": "stream",
     "text": [
      "(135712, 4)\n",
      "(array([0, 1, 2, 3, 4, 5, 6, 7, 8, 9]), array([11501,  4550,  3734,  3551,  3789,  4599,  6120,  8766, 14517,\n",
      "       74585]))\n"
     ]
    },
    {
     "data": {
      "text/html": [
       "<div>\n",
       "<style scoped>\n",
       "    .dataframe tbody tr th:only-of-type {\n",
       "        vertical-align: middle;\n",
       "    }\n",
       "\n",
       "    .dataframe tbody tr th {\n",
       "        vertical-align: top;\n",
       "    }\n",
       "\n",
       "    .dataframe thead th {\n",
       "        text-align: right;\n",
       "    }\n",
       "</style>\n",
       "<table border=\"1\" class=\"dataframe\">\n",
       "  <thead>\n",
       "    <tr style=\"text-align: right;\">\n",
       "      <th></th>\n",
       "      <th>filename</th>\n",
       "      <th>label</th>\n",
       "      <th>prob</th>\n",
       "      <th>bin</th>\n",
       "    </tr>\n",
       "  </thead>\n",
       "  <tbody>\n",
       "    <tr>\n",
       "      <th>0</th>\n",
       "      <td>149610.jpg</td>\n",
       "      <td>1</td>\n",
       "      <td>0.812212</td>\n",
       "      <td>8</td>\n",
       "    </tr>\n",
       "    <tr>\n",
       "      <th>1</th>\n",
       "      <td>054215.jpg</td>\n",
       "      <td>1</td>\n",
       "      <td>0.992104</td>\n",
       "      <td>9</td>\n",
       "    </tr>\n",
       "    <tr>\n",
       "      <th>2</th>\n",
       "      <td>050394.jpg</td>\n",
       "      <td>1</td>\n",
       "      <td>0.999601</td>\n",
       "      <td>9</td>\n",
       "    </tr>\n",
       "  </tbody>\n",
       "</table>\n",
       "</div>"
      ],
      "text/plain": [
       "     filename label      prob  bin\n",
       "0  149610.jpg     1  0.812212    8\n",
       "1  054215.jpg     1  0.992104    9\n",
       "2  050394.jpg     1  0.999601    9"
      ]
     },
     "execution_count": 11,
     "metadata": {},
     "output_type": "execute_result"
    }
   ],
   "source": [
    "df_train_results = pd.DataFrame(data = [names, true_y[:,current_index], prediction_y[:,current_index_prob]]).T\n",
    "df_train_results = df_train_results.rename(index=str, columns={0: \"filename\", 1: \"label\", 2:\"prob\"})\n",
    "df_train_results['bin'] = np.floor(df_train_results[\"prob\"].astype('float') * 10).astype('int')\n",
    "print(df_train_results.shape)\n",
    "print(np.unique(df_train_results['bin'], return_counts=True))\n",
    "df_train_results.head(3)"
   ]
  },
  {
   "cell_type": "code",
   "execution_count": 12,
   "metadata": {},
   "outputs": [
    {
     "name": "stdout",
     "output_type": "stream",
     "text": [
      "(202560, 4)\n"
     ]
    },
    {
     "data": {
      "text/html": [
       "<div>\n",
       "<style scoped>\n",
       "    .dataframe tbody tr th:only-of-type {\n",
       "        vertical-align: middle;\n",
       "    }\n",
       "\n",
       "    .dataframe tbody tr th {\n",
       "        vertical-align: top;\n",
       "    }\n",
       "\n",
       "    .dataframe thead th {\n",
       "        text-align: right;\n",
       "    }\n",
       "</style>\n",
       "<table border=\"1\" class=\"dataframe\">\n",
       "  <thead>\n",
       "    <tr style=\"text-align: right;\">\n",
       "      <th></th>\n",
       "      <th>filename</th>\n",
       "      <th>label</th>\n",
       "      <th>prob</th>\n",
       "      <th>bin</th>\n",
       "    </tr>\n",
       "  </thead>\n",
       "  <tbody>\n",
       "    <tr>\n",
       "      <th>0</th>\n",
       "      <td>149610.jpg</td>\n",
       "      <td>1</td>\n",
       "      <td>0.812212</td>\n",
       "      <td>8</td>\n",
       "    </tr>\n",
       "  </tbody>\n",
       "</table>\n",
       "</div>"
      ],
      "text/plain": [
       "     filename label      prob  bin\n",
       "0  149610.jpg     1  0.812212    8"
      ]
     },
     "execution_count": 12,
     "metadata": {},
     "output_type": "execute_result"
    }
   ],
   "source": [
    "df = pd.concat([df_train_results, df_test_results])\n",
    "df = df.drop_duplicates()\n",
    "print(df.shape)\n",
    "df.head(1)"
   ]
  },
  {
   "cell_type": "markdown",
   "metadata": {},
   "source": [
    "## Plot reliability curve"
   ]
  },
  {
   "cell_type": "code",
   "execution_count": 13,
   "metadata": {},
   "outputs": [
    {
     "data": {
      "image/png": "[encoded data removed]",
      "text/plain": [
       "<Figure size 432x288 with 1 Axes>"
      ]
     },
     "metadata": {
      "needs_background": "light"
     },
     "output_type": "display_data"
    }
   ],
   "source": [
    "#Reliability Curve\n",
    "from sklearn.calibration import CalibratedClassifierCV, calibration_curve\n",
    "from sklearn.metrics import (brier_score_loss, precision_score, recall_score,\n",
    "                             f1_score)\n",
    "true_label = np.asarray(df['label']).astype(int)\n",
    "predicted_prob = np.asarray(df[\"prob\"]).astype(float)\n",
    "fraction_of_positives, mean_predicted_value = calibration_curve(true_label, predicted_prob, n_bins=10)\n",
    "clf_score = brier_score_loss(true_label, predicted_prob, pos_label=1)\n",
    "plt.plot(mean_predicted_value, fraction_of_positives, \"s-\",\n",
    "                 label=\"%s (%1.3f)\" % ('Data-before binning', clf_score))\n",
    "plt.plot([0, 1], [0, 1], \"k:\", label=\"Perfectly calibrated\")\n",
    "plt.ylabel('Fraction of positives')\n",
    "#plt.ylim([-0.05, 1.05])\n",
    "plt.title('Calibration plots  (reliability curve) for '+ name)\n",
    "plt.legend()\n",
    "plt.show()"
   ]
  },
  {
   "cell_type": "markdown",
   "metadata": {},
   "source": [
    "# Create bins"
   ]
  },
  {
   "cell_type": "code",
   "execution_count": 14,
   "metadata": {},
   "outputs": [
    {
     "data": {
      "text/html": [
       "<div>\n",
       "<style scoped>\n",
       "    .dataframe tbody tr th:only-of-type {\n",
       "        vertical-align: middle;\n",
       "    }\n",
       "\n",
       "    .dataframe tbody tr th {\n",
       "        vertical-align: top;\n",
       "    }\n",
       "\n",
       "    .dataframe thead th {\n",
       "        text-align: right;\n",
       "    }\n",
       "</style>\n",
       "<table border=\"1\" class=\"dataframe\">\n",
       "  <thead>\n",
       "    <tr style=\"text-align: right;\">\n",
       "      <th></th>\n",
       "      <th>filename</th>\n",
       "      <th>label</th>\n",
       "      <th>prob</th>\n",
       "      <th>bin</th>\n",
       "    </tr>\n",
       "  </thead>\n",
       "  <tbody>\n",
       "    <tr>\n",
       "      <th>0</th>\n",
       "      <td>149610.jpg</td>\n",
       "      <td>1</td>\n",
       "      <td>0.812212</td>\n",
       "      <td>8</td>\n",
       "    </tr>\n",
       "  </tbody>\n",
       "</table>\n",
       "</div>"
      ],
      "text/plain": [
       "     filename label      prob  bin\n",
       "0  149610.jpg     1  0.812212    8"
      ]
     },
     "execution_count": 14,
     "metadata": {},
     "output_type": "execute_result"
    }
   ],
   "source": [
    "df.head(1)"
   ]
  },
  {
   "cell_type": "code",
   "execution_count": 15,
   "metadata": {},
   "outputs": [
    {
     "data": {
      "text/html": [
       "<div>\n",
       "<style scoped>\n",
       "    .dataframe tbody tr th:only-of-type {\n",
       "        vertical-align: middle;\n",
       "    }\n",
       "\n",
       "    .dataframe tbody tr th {\n",
       "        vertical-align: top;\n",
       "    }\n",
       "\n",
       "    .dataframe thead th {\n",
       "        text-align: right;\n",
       "    }\n",
       "</style>\n",
       "<table border=\"1\" class=\"dataframe\">\n",
       "  <thead>\n",
       "    <tr style=\"text-align: right;\">\n",
       "      <th></th>\n",
       "      <th>filename</th>\n",
       "      <th>label</th>\n",
       "      <th>prob</th>\n",
       "    </tr>\n",
       "    <tr>\n",
       "      <th>bin</th>\n",
       "      <th></th>\n",
       "      <th></th>\n",
       "      <th></th>\n",
       "    </tr>\n",
       "  </thead>\n",
       "  <tbody>\n",
       "    <tr>\n",
       "      <th>0</th>\n",
       "      <td>17051</td>\n",
       "      <td>17051</td>\n",
       "      <td>17051</td>\n",
       "    </tr>\n",
       "    <tr>\n",
       "      <th>1</th>\n",
       "      <td>6792</td>\n",
       "      <td>6792</td>\n",
       "      <td>6792</td>\n",
       "    </tr>\n",
       "    <tr>\n",
       "      <th>2</th>\n",
       "      <td>5520</td>\n",
       "      <td>5520</td>\n",
       "      <td>5520</td>\n",
       "    </tr>\n",
       "    <tr>\n",
       "      <th>3</th>\n",
       "      <td>5339</td>\n",
       "      <td>5339</td>\n",
       "      <td>5339</td>\n",
       "    </tr>\n",
       "    <tr>\n",
       "      <th>4</th>\n",
       "      <td>5827</td>\n",
       "      <td>5827</td>\n",
       "      <td>5827</td>\n",
       "    </tr>\n",
       "    <tr>\n",
       "      <th>5</th>\n",
       "      <td>7006</td>\n",
       "      <td>7006</td>\n",
       "      <td>7006</td>\n",
       "    </tr>\n",
       "    <tr>\n",
       "      <th>6</th>\n",
       "      <td>9243</td>\n",
       "      <td>9243</td>\n",
       "      <td>9243</td>\n",
       "    </tr>\n",
       "    <tr>\n",
       "      <th>7</th>\n",
       "      <td>13023</td>\n",
       "      <td>13023</td>\n",
       "      <td>13023</td>\n",
       "    </tr>\n",
       "    <tr>\n",
       "      <th>8</th>\n",
       "      <td>21723</td>\n",
       "      <td>21723</td>\n",
       "      <td>21723</td>\n",
       "    </tr>\n",
       "    <tr>\n",
       "      <th>9</th>\n",
       "      <td>111036</td>\n",
       "      <td>111036</td>\n",
       "      <td>111036</td>\n",
       "    </tr>\n",
       "  </tbody>\n",
       "</table>\n",
       "</div>"
      ],
      "text/plain": [
       "     filename   label    prob\n",
       "bin                          \n",
       "0       17051   17051   17051\n",
       "1        6792    6792    6792\n",
       "2        5520    5520    5520\n",
       "3        5339    5339    5339\n",
       "4        5827    5827    5827\n",
       "5        7006    7006    7006\n",
       "6        9243    9243    9243\n",
       "7       13023   13023   13023\n",
       "8       21723   21723   21723\n",
       "9      111036  111036  111036"
      ]
     },
     "execution_count": 15,
     "metadata": {},
     "output_type": "execute_result"
    }
   ],
   "source": [
    "df.groupby(by='bin').count()"
   ]
  },
  {
   "cell_type": "code",
   "execution_count": 16,
   "metadata": {},
   "outputs": [],
   "source": [
    "n = 5000"
   ]
  },
  {
   "cell_type": "markdown",
   "metadata": {},
   "source": [
    "## Caliberated Sampling"
   ]
  },
  {
   "cell_type": "code",
   "execution_count": 17,
   "metadata": {},
   "outputs": [
    {
     "name": "stdout",
     "output_type": "stream",
     "text": [
      "(17051, 4)\n",
      "0.001072528 0.09997948\n",
      "(array([0.0, 1.0], dtype=object), array([16448,   603]))\n",
      "(5000, 4)\n",
      "(array([0.0], dtype=object), array([5000]))\n",
      "(6792, 4)\n",
      "0.10001165 0.19999142\n",
      "(array([0.0, 1.0], dtype=object), array([5786, 1006]))\n",
      "(10000, 4)\n",
      "(array([0.0, 1.0], dtype=object), array([4500,  500]))\n",
      "(5520, 4)\n",
      "0.20000328 0.29999936\n",
      "(array([0.0, 1.0], dtype=object), array([4064, 1456]))\n",
      "(15000, 4)\n",
      "(array([0.0, 1.0], dtype=object), array([4000, 1000]))\n",
      "(5339, 4)\n",
      "0.3000412 0.3999886\n",
      "(array([0.0, 1.0], dtype=object), array([3289, 2050]))\n",
      "(20000, 4)\n",
      "(array([0.0, 1.0], dtype=object), array([3289, 1711]))\n",
      "(5827, 4)\n",
      "0.40000042 0.49998057\n",
      "(array([0.0, 1.0], dtype=object), array([2933, 2894]))\n",
      "(25000, 4)\n",
      "(array([0.0, 1.0], dtype=object), array([2933, 2067]))\n",
      "(7006, 4)\n",
      "0.5000019 0.5999943\n",
      "(array([0.0, 1.0], dtype=object), array([2783, 4223]))\n",
      "(30000, 4)\n",
      "(array([0.0, 1.0], dtype=object), array([2500, 2500]))\n",
      "(9243, 4)\n",
      "0.60003155 0.6999827\n",
      "(array([0.0, 1.0], dtype=object), array([2848, 6395]))\n",
      "(35000, 4)\n",
      "(array([0.0, 1.0], dtype=object), array([1999, 3001]))\n",
      "(13023, 4)\n",
      "0.70000136 0.7999929\n",
      "(array([0.0, 1.0], dtype=object), array([ 2783, 10240]))\n",
      "(40000, 4)\n",
      "(array([0.0, 1.0], dtype=object), array([1499, 3501]))\n",
      "(21723, 4)\n",
      "0.8000029 0.8999949\n",
      "(array([0.0, 1.0], dtype=object), array([ 2569, 19154]))\n",
      "(45000, 4)\n",
      "(array([0.0, 1.0], dtype=object), array([ 999, 4001]))\n",
      "(111036, 4)\n",
      "0.90000206 0.99999774\n",
      "(array([0.0, 1.0], dtype=object), array([  2357, 108679]))\n",
      "(50000, 4)\n",
      "(array([0.0, 1.0], dtype=object), array([ 499, 4501]))\n"
     ]
    }
   ],
   "source": [
    "for i in range(10):\n",
    "    df_bin = df.loc[df['bin'] == i]\n",
    "    print(df_bin.shape)\n",
    "    print(np.min(df_bin['prob']), np.max(df_bin['prob']))\n",
    "    print(np.unique(df_bin['label'],return_counts=True))\n",
    "    df_bin_0 = df.loc[(df['bin'] == i) & (df['label'] ==0)]\n",
    "    df_bin_1 = df.loc[(df['bin'] == i) & (df['label'] ==1)]\n",
    "    n_0 = int((1 - (0.1 * i) ) * n)\n",
    "    if df_bin_0.shape[0] >= n_0:\n",
    "        df_bin = df_bin_0.sample(n=n_0)\n",
    "    else:\n",
    "        df_bin = df_bin_0\n",
    "        n_0 = df_bin_0.shape[0]\n",
    "    n_1 = n - n_0\n",
    "    if df_bin_1.shape[0] >= n_1:\n",
    "        df_bin = pd.concat([df_bin, df_bin_1.sample(n=n_1)])        \n",
    "    else:\n",
    "        df_bin = pd.concat([df_bin, df_bin_1])    \n",
    "        \n",
    "    if i == 0:\n",
    "        df_bin_all = df_bin\n",
    "    else:\n",
    "        df_bin_all = pd.concat([df_bin, df_bin_all])\n",
    "    print(df_bin_all.shape)\n",
    "    print(np.unique(df_bin['label'], return_counts=True))"
   ]
  },
  {
   "cell_type": "code",
   "execution_count": 18,
   "metadata": {},
   "outputs": [
    {
     "name": "stdout",
     "output_type": "stream",
     "text": [
      "(array([0, 1, 2, 3, 4, 5, 6, 7, 8, 9]), array([5000, 5000, 5000, 5000, 5000, 5000, 5000, 5000, 5000, 5000]))\n"
     ]
    }
   ],
   "source": [
    "print(np.unique(df_bin_all['bin'], return_counts=True))"
   ]
  },
  {
   "cell_type": "code",
   "execution_count": 19,
   "metadata": {},
   "outputs": [
    {
     "data": {
      "image/png": "[encoded data removed]",
      "text/plain": [
       "<Figure size 432x288 with 1 Axes>"
      ]
     },
     "metadata": {
      "needs_background": "light"
     },
     "output_type": "display_data"
    }
   ],
   "source": [
    "#Reliability Curve\n",
    "from sklearn.calibration import CalibratedClassifierCV, calibration_curve\n",
    "from sklearn.metrics import (brier_score_loss, precision_score, recall_score,\n",
    "                             f1_score)\n",
    "true_label = np.asarray(df_bin_all['label']).astype(int)\n",
    "predicted_prob = np.asarray(df_bin_all['prob']).astype(float)\n",
    "fraction_of_positives, mean_predicted_value = calibration_curve(true_label, predicted_prob, n_bins=10)\n",
    "clf_score = brier_score_loss(true_label, predicted_prob, pos_label=1)\n",
    "plt.plot(mean_predicted_value, fraction_of_positives, \"s-\",\n",
    "                 label=\"%s (%1.3f)\" % ('Data-after binning', clf_score))\n",
    "plt.plot([0, 1], [0, 1], \"k:\", label=\"Perfectly calibrated\")\n",
    "plt.ylabel('Fraction of positives')\n",
    "plt.ylim([-0.05, 1.05])\n",
    "plt.title('Calibration plots  (reliability curve) for '+name)\n",
    "plt.legend()\n",
    "plt.show()"
   ]
  },
  {
   "cell_type": "markdown",
   "metadata": {},
   "source": [
    "## Save the output"
   ]
  },
  {
   "cell_type": "code",
   "execution_count": 20,
   "metadata": {},
   "outputs": [],
   "source": [
    "experiment_dir = os.path.join('.'+config['log_dir'], config['name'], 'explainer_input')"
   ]
  },
  {
   "cell_type": "code",
   "execution_count": 21,
   "metadata": {},
   "outputs": [
    {
     "name": "stdout",
     "output_type": "stream",
     "text": [
      "../output/classifier/CelebA-Young/explainer_input Young\n"
     ]
    }
   ],
   "source": [
    "print(experiment_dir,name)\n",
    "if not os.path.exists(experiment_dir):\n",
    "    os.makedirs(experiment_dir)"
   ]
  },
  {
   "cell_type": "code",
   "execution_count": 22,
   "metadata": {},
   "outputs": [
    {
     "name": "stdout",
     "output_type": "stream",
     "text": [
      "(50000, 2)\n"
     ]
    }
   ],
   "source": [
    "df_temp = df_bin_all[['filename', 'bin']]\n",
    "df_temp.to_csv(os.path.join(experiment_dir, 'list_attr_celeba_'+name+'.txt'), sep = ' ', index = None, header = None)\n",
    "print(df_temp.shape)\n",
    "one_line = str(df_temp.shape[0]) + '\\n'\n",
    "second_line = \"0-0.09 0.1-0.19 0.2-0.29 0.3-0.39 0.4-0.49 0.5-0.59 0.6-0.69 0.7-0.79 0.8-0.89 0.9-0.99\\n\"\n",
    "with open(os.path.join(experiment_dir, 'list_attr_celeba_'+name+'.txt'), 'r+') as fp:\n",
    "    lines = fp.readlines()     # lines is list of line, each element '...\\n'\n",
    "    lines.insert(0, one_line)  # you can use any index if you know the line index\n",
    "    lines.insert(1, second_line)\n",
    "    fp.seek(0)                 # file pointer locates at the beginning to write the whole file again\n",
    "    fp.writelines(lines) \n",
    "\n",
    "df_bin_all.to_csv(os.path.join(experiment_dir, 'Data_Output_Classifier_'+name+'.csv'), sep = ' ', index = None)\n",
    "df_test_results.to_csv(os.path.join(experiment_dir, 'Data_Output_Classifier_All_Test_'+name+'.csv'), sep = ' ', index = None)\n",
    "df_train_results.to_csv(os.path.join(experiment_dir, 'Data_Output_Classifier_All_Train_'+name+'.csv'), sep = ' ', index = None)"
   ]
  },
  {
   "cell_type": "code",
   "execution_count": 23,
   "metadata": {},
   "outputs": [],
   "source": [
    "df_combine = pd.read_csv(os.path.join(experiment_dir, 'Data_Output_Classifier_'+name+'.csv'), sep = ' ')"
   ]
  },
  {
   "cell_type": "code",
   "execution_count": 24,
   "metadata": {},
   "outputs": [
    {
     "data": {
      "image/png": "[encoded data removed]",
      "text/plain": [
       "<Figure size 432x288 with 1 Axes>"
      ]
     },
     "metadata": {
      "needs_background": "light"
     },
     "output_type": "display_data"
    }
   ],
   "source": [
    "#Reliability Curve\n",
    "from sklearn.calibration import CalibratedClassifierCV, calibration_curve\n",
    "from sklearn.metrics import (brier_score_loss, precision_score, recall_score,\n",
    "                             f1_score)\n",
    "\n",
    "fraction_of_positives, mean_predicted_value = calibration_curve(df_combine['label'], df_combine[\"prob\"], n_bins=10)\n",
    "clf_score = brier_score_loss(df_combine['label'], df_combine[\"prob\"], pos_label=1)\n",
    "plt.plot(mean_predicted_value, fraction_of_positives, \"s-\",\n",
    "                 label=\"%s (%1.3f)\" % ('Data', clf_score))\n",
    "plt.plot([0, 1], [0, 1], \"k:\", label=\"Perfectly calibrated\")\n",
    "plt.ylabel('Fraction of positives')\n",
    "plt.ylim([-0.05, 1.05])\n",
    "plt.title('Calibration plots  (reliability curve)')\n",
    "plt.legend()\n",
    "plt.show()"
   ]
  },
  {
   "cell_type": "code",
   "execution_count": null,
   "metadata": {},
   "outputs": [],
   "source": []
  },
  {
   "cell_type": "code",
   "execution_count": null,
   "metadata": {},
   "outputs": [],
   "source": []
  }
 ],
 "metadata": {
  "kernelspec": {
   "display_name": "disco-container-notebook",
   "language": "python",
   "name": "disco-container-notebook"
  },
  "language_info": {
   "codemirror_mode": {
    "name": "ipython",
    "version": 3
   },
   "file_extension": ".py",
   "mimetype": "text/x-python",
   "name": "python",
   "nbconvert_exporter": "python",
   "pygments_lexer": "ipython3",
   "version": "3.5.2"
  },
  "toc": {
   "base_numbering": 1,
   "nav_menu": {},
   "number_sections": true,
   "sideBar": true,
   "skip_h1_title": false,
   "title_cell": "Table of Contents",
   "title_sidebar": "Contents",
   "toc_cell": false,
   "toc_position": {},
   "toc_section_display": true,
   "toc_window_display": false
  }
 },
 "nbformat": 4,
 "nbformat_minor": 2
}
